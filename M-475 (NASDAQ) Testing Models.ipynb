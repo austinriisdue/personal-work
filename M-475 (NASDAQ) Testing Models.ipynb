{
 "cells": [
  {
   "cell_type": "code",
   "execution_count": 1,
   "metadata": {},
   "outputs": [],
   "source": [
    "import pandas as pd\n",
    "import numpy as np\n",
    "import scipy.stats as st\n",
    "import matplotlib.pyplot as plt\n",
    "from sklearn import neighbors\n",
    "from sklearn.metrics import hamming_loss\n",
    "import seaborn as sns"
   ]
  },
  {
   "cell_type": "code",
   "execution_count": 2,
   "metadata": {},
   "outputs": [],
   "source": [
    "def scaleMatrix(matrix):\n",
    "    return matrix.div(matrix.sum(axis=1),axis=0)"
   ]
  },
  {
   "cell_type": "code",
   "execution_count": 3,
   "metadata": {},
   "outputs": [],
   "source": [
    "def norm(series):\n",
    "    b = max(series)\n",
    "    a = min(series)\n",
    "    return [(x - a) / (b - a) for x in series]"
   ]
  },
  {
   "cell_type": "code",
   "execution_count": 4,
   "metadata": {},
   "outputs": [],
   "source": [
    "def npmc(init_state, matrix, original_states, init_state_col):\n",
    "    matrix = scaleMatrix(matrix)\n",
    "    probs = {k:list(matrix.iloc[original_states.index(k)]) for k in original_states}\n",
    "    NewState = []\n",
    "    for x in range(len(init_state)):\n",
    "        NewState.append(np.random.choice(a = matrix.columns, p = probs[init_state[init_state_col][x]],size=1)[0])\n",
    "    NextStep = pd.DataFrame()\n",
    "    NextStep[\"Original State\"] = init_state[init_state_col]\n",
    "    NextStep[\"New State\"] = NewState\n",
    "    return NextStep"
   ]
  },
  {
   "cell_type": "code",
   "execution_count": 5,
   "metadata": {},
   "outputs": [],
   "source": [
    "def chain(init_state, matrix, original_states, init_state_col,n):\n",
    "    init_state = init_state.copy()\n",
    "    out = pd.DataFrame()\n",
    "    out[0] = init_state[init_state_col]\n",
    "    for i in range(1,n+1):\n",
    "        out[i] = npmc(out,matrix,original_states,i-1)[\"New State\"]\n",
    "    return out"
   ]
  },
  {
   "cell_type": "code",
   "execution_count": 6,
   "metadata": {},
   "outputs": [],
   "source": [
    "def proj(inp,X1,X2,n,start_state_col):\n",
    "    sts = []\n",
    "    inp.reset_index(drop = True,inplace = True)\n",
    "    curr_st = inp[start_state_col].iloc[0]\n",
    "    for step in range(n):\n",
    "        sts.append(curr_st)\n",
    "        if curr_st == -1:\n",
    "            up_prob = npdfd[\"t1\"].iloc[downknn.kneighbors([[inp[X1][step],inp[X2][step]]],n_neighbors,False)[0]].value_counts()[1] / n_neighbors\n",
    "            down_prob = npdfd[\"t1\"].iloc[downknn.kneighbors([[inp[X1][step],inp[X2][step]]],n_neighbors,False)[0]].value_counts()[0] / n_neighbors\n",
    "            curr_st = np.random.choice([0,1],1,p = [down_prob, up_prob])[0]\n",
    "        else:\n",
    "            up_prob = npdfu[\"t1\"].iloc[upknn.kneighbors([[inp[X1][step],inp[X2][step]]],n_neighbors,False)[0]].value_counts()[1] / n_neighbors\n",
    "            down_prob = npdfu[\"t1\"].iloc[upknn.kneighbors([[inp[X1][step],inp[X2][step]]],n_neighbors,False)[0]].value_counts()[0] / n_neighbors\n",
    "            curr_st = np.random.choice([0,1],1,p = [down_prob, up_prob])[0]\n",
    "    return sts"
   ]
  },
  {
   "cell_type": "code",
   "execution_count": 7,
   "metadata": {},
   "outputs": [],
   "source": [
    "tick = pd.read_csv(\"NASDAQ_Ticks.csv\")\n",
    "all_data = {}\n",
    "all_tm = {}\n",
    "returns = {}\n",
    "for x in tick[\"Ticker\"]:\n",
    "    \n",
    "    df = pd.DataFrame()\n",
    "    t0 = pd.read_csv(x+\".csv\")[\"Adj Close\"]\n",
    "    returns[x] = t0.pct_change().iloc[::3][1:]\n",
    "    df[\"MMYYYY\"] = [x[5:7] + x[:4] for x in pd.read_csv(x+\".csv\")[\"Date\"][1:]]\n",
    "    df.reset_index(drop = True,inplace = True)\n",
    "    df[\"t0\"] = np.where(t0.pct_change()[1:] > 0, 1, 0)\n",
    "    df.dropna(inplace=True)\n",
    "    df.reset_index(drop = True,inplace = True)\n",
    "    \n",
    "    df[\"t1\"] = df[\"t0\"].shift(-3)\n",
    "    df.dropna(inplace=True)\n",
    "    df.reset_index(drop = True,inplace = True)\n",
    "    \n",
    "    states = [\"Up\",\"Down\"]\n",
    "    TM = pd.DataFrame(index = [\"Up\",\"Down\"])\n",
    "    \n",
    "    tm = {\"UU\":0,\"UD\":0,\"DU\":0,\"DD\":0}\n",
    "    \n",
    "    for i in range(2,len(df)):\n",
    "        \n",
    "        if df[\"t0\"][i] == 1 and df[\"t0\"][i-1] == 1:\n",
    "            tm[\"UU\"] += 1\n",
    "        elif df[\"t0\"][i] == 0 and df[\"t0\"][i-1] == 1:\n",
    "            tm[\"UD\"] += 1\n",
    "        elif df[\"t0\"][i] == 1 and df[\"t0\"][i-1] == 0:\n",
    "            tm[\"DU\"] += 1\n",
    "        else:\n",
    "            tm[\"DD\"] += 1\n",
    "            \n",
    "    TM[\"Up\"] = [tm[\"UU\"],tm[\"UD\"]]\n",
    "    TM[\"Down\"] = [tm[\"DU\"],tm[\"DD\"]]\n",
    "    \n",
    "    findf = pd.read_csv(x + \"_quarterly_valuation_measures.csv\",header=None).T\n",
    "    findf.columns = findf.iloc[0]\n",
    "    findf.drop([0,1],inplace=True)\n",
    "    \n",
    "    findf1 = pd.DataFrame()\n",
    "    findf1[\"MMYYYY\"] = [y[:2]+ y[6:10] for y in findf[\"name\"].str.replace('/', '-')]\n",
    "    try:\n",
    "        findf1[\"PeRatio\"] = np.log(findf[\"PeRatio\"].str.replace(',', '').astype(float))\n",
    "    except:\n",
    "        findf1[\"PeRatio\"] = np.log(findf[\"PegRatio\"].str.replace(',', '').astype(float))\n",
    "    findf1['MarketCap'] = np.log(findf['MarketCap'].str.replace(',', '').astype(float))\n",
    "    findf1.interpolate(method='linear',inplace=True)\n",
    "    \n",
    "    findf1.dropna(inplace=True)\n",
    "    findf1.reset_index(drop = True,inplace = True)\n",
    "    \n",
    "    alldf = df.merge(right=findf1, on = [\"MMYYYY\"])\n",
    "    \n",
    "    all_tm[x] = scaleMatrix(TM)\n",
    "    all_data[x] = alldf"
   ]
  },
  {
   "cell_type": "code",
   "execution_count": 8,
   "metadata": {},
   "outputs": [],
   "source": [
    "npdf = pd.DataFrame()\n",
    "tk = []\n",
    "my = []\n",
    "t0 = []\n",
    "t1 = []\n",
    "ps = []\n",
    "mc = []\n",
    "for x in tick[\"Ticker\"]:\n",
    "    tk.extend([x for y in range(len(all_data[x]))])\n",
    "    my.extend([x for x in all_data[x][\"MMYYYY\"]])\n",
    "    t0.extend([x for x in all_data[x][\"t0\"]])\n",
    "    t1.extend([x for x in all_data[x][\"t1\"]])\n",
    "    ps.extend([x for x in all_data[x][\"PeRatio\"]])\n",
    "    mc.extend([x for x in all_data[x][\"MarketCap\"]])\n",
    "npdf[\"Ticker\"] = tk\n",
    "npdf[\"MMYYYY\"] = my\n",
    "npdf[\"t0\"] = t0\n",
    "npdf[\"t1\"] = t1\n",
    "npdf[\"PeRatio\"] = ps\n",
    "npdf[\"MarketCap\"] = mc"
   ]
  },
  {
   "cell_type": "code",
   "execution_count": 9,
   "metadata": {},
   "outputs": [
    {
     "data": {
      "text/plain": [
       "array(['INCY', 'IDXX', 'ADI', 'KHC'], dtype=object)"
      ]
     },
     "execution_count": 9,
     "metadata": {},
     "output_type": "execute_result"
    }
   ],
   "source": [
    "np.random.seed(20)\n",
    "test_comps = np.random.choice(tick[\"Ticker\"],4, replace = False)\n",
    "\n",
    "test = npdf.iloc[np.where(np.logical_or(np.logical_or(np.logical_or(\n",
    "    npdf[\"Ticker\"] == test_comps[0],\n",
    "    npdf[\"Ticker\"] == test_comps[1]),\n",
    "    npdf[\"Ticker\"] == test_comps[2]),\n",
    "    npdf[\"Ticker\"] == test_comps[3]))]\n",
    "train = npdf.iloc[np.where(np.logical_and(np.logical_and(np.logical_and(\n",
    "    npdf[\"Ticker\"] != test_comps[0],\n",
    "    npdf[\"Ticker\"] != test_comps[1]),\n",
    "    npdf[\"Ticker\"] != test_comps[2]),\n",
    "    npdf[\"Ticker\"] != test_comps[3]))]\n",
    "train.reset_index(drop = True,inplace = True)\n",
    "test.reset_index(drop = True,inplace = True)\n",
    "test_comps"
   ]
  },
  {
   "cell_type": "code",
   "execution_count": 10,
   "metadata": {},
   "outputs": [],
   "source": [
    "npdfu = train.loc[npdf[\"t0\"] == 1]"
   ]
  },
  {
   "cell_type": "code",
   "execution_count": 11,
   "metadata": {},
   "outputs": [],
   "source": [
    "npdfd = train.loc[npdf[\"t0\"] == 0]"
   ]
  },
  {
   "cell_type": "code",
   "execution_count": 12,
   "metadata": {},
   "outputs": [
    {
     "data": {
      "text/plain": [
       "KNeighborsClassifier(n_neighbors=8)"
      ]
     },
     "execution_count": 12,
     "metadata": {},
     "output_type": "execute_result"
    }
   ],
   "source": [
    "n_neighbors = 8\n",
    "scale = pd.DataFrame()\n",
    "scale[\"MarketCap\"] = norm(npdfu[\"MarketCap\"])\n",
    "scale[\"PeRatio\"] = norm(npdfu[\"PeRatio\"])\n",
    "upknn = neighbors.KNeighborsClassifier(n_neighbors)\n",
    "X = scale[[\"MarketCap\",\"PeRatio\"]]\n",
    "y = npdfu[\"t1\"]\n",
    "upknn.fit(X,y)"
   ]
  },
  {
   "cell_type": "code",
   "execution_count": 13,
   "metadata": {},
   "outputs": [
    {
     "data": {
      "text/plain": [
       "KNeighborsClassifier(n_neighbors=8)"
      ]
     },
     "execution_count": 13,
     "metadata": {},
     "output_type": "execute_result"
    }
   ],
   "source": [
    "scale = pd.DataFrame()\n",
    "scale[\"MarketCap\"] = norm(npdfd[\"MarketCap\"])\n",
    "scale[\"PeRatio\"] = norm(npdfd[\"PeRatio\"])\n",
    "downknn = neighbors.KNeighborsClassifier(n_neighbors)\n",
    "X = scale[[\"MarketCap\",\"PeRatio\"]]\n",
    "y = npdfd[\"t1\"]\n",
    "downknn.fit(X,y)"
   ]
  },
  {
   "cell_type": "code",
   "execution_count": 14,
   "metadata": {},
   "outputs": [],
   "source": [
    "p = 20"
   ]
  },
  {
   "cell_type": "code",
   "execution_count": 15,
   "metadata": {},
   "outputs": [],
   "source": [
    "k = 0\n",
    "PDCE = {}\n",
    "pdce = test.loc[test[\"Ticker\"] == test_comps[0]][[\"t0\",\"t1\",\"PeRatio\",\"MarketCap\"]]\n",
    "pdce.reset_index(drop = True,inplace = True)\n",
    "i=0\n",
    "while p+k <= len(pdce):\n",
    "    PDCE[i] = pdce.iloc[k:p+k]\n",
    "    k+=p\n",
    "    i+=1"
   ]
  },
  {
   "cell_type": "code",
   "execution_count": 16,
   "metadata": {},
   "outputs": [],
   "source": [
    "k = 0\n",
    "DQ = {}\n",
    "dq = test.loc[test[\"Ticker\"] == test_comps[1]][[\"t0\",\"t1\",\"PeRatio\",\"MarketCap\"]]\n",
    "dq.reset_index(drop = True,inplace = True)\n",
    "i=0\n",
    "while p+k <= len(dq):\n",
    "    DQ[i] = dq.iloc[k:p+k]\n",
    "    k+=p\n",
    "    i+=1"
   ]
  },
  {
   "cell_type": "code",
   "execution_count": 17,
   "metadata": {},
   "outputs": [],
   "source": [
    "k = 0\n",
    "PLUG = {}\n",
    "plug = test.loc[test[\"Ticker\"] == test_comps[2]][[\"t0\",\"t1\",\"PeRatio\",\"MarketCap\"]]\n",
    "plug.reset_index(drop = True,inplace = True)\n",
    "i=0\n",
    "while p+k <= len(plug):\n",
    "    PLUG[i] = plug.iloc[k:p+k]\n",
    "    k+=p\n",
    "    i+=1"
   ]
  },
  {
   "cell_type": "code",
   "execution_count": 18,
   "metadata": {},
   "outputs": [],
   "source": [
    "k = 0\n",
    "VLO = {}\n",
    "vlo = test.loc[test[\"Ticker\"] == test_comps[3]][[\"t0\",\"t1\",\"PeRatio\",\"MarketCap\"]]\n",
    "vlo.reset_index(drop = True,inplace = True)\n",
    "i=0\n",
    "while p+k <= len(vlo):\n",
    "    VLO[i] = vlo.iloc[k:p+k]\n",
    "    k+=1\n",
    "    i+=1"
   ]
  },
  {
   "cell_type": "code",
   "execution_count": 19,
   "metadata": {},
   "outputs": [
    {
     "data": {
      "text/plain": [
       "(5, 5, 7, 3)"
      ]
     },
     "execution_count": 19,
     "metadata": {},
     "output_type": "execute_result"
    }
   ],
   "source": [
    "len(PDCE),len(DQ),len(PLUG),len(VLO)"
   ]
  },
  {
   "cell_type": "code",
   "execution_count": 20,
   "metadata": {},
   "outputs": [],
   "source": [
    "np.random.seed(10)\n",
    "testloss = []\n",
    "n = 100\n",
    "for j in range(len(PDCE)):\n",
    "    for i in range(n):\n",
    "        out = proj(PDCE[j],\"PeRatio\",\"MarketCap\",len(PDCE[j]),\"t0\")\n",
    "        testloss.append(hamming_loss(out[1:],PDCE[j][\"t1\"][1:]))\n",
    "for j in range(len(DQ)):\n",
    "    for i in range(n):\n",
    "        out = proj(DQ[j],\"PeRatio\",\"MarketCap\",len(DQ[j]),\"t0\")\n",
    "        testloss.append(hamming_loss(out[1:],DQ[j][\"t1\"][1:]))\n",
    "for j in range(len(PLUG)):\n",
    "    for i in range(n):\n",
    "        out = proj(PLUG[j],\"PeRatio\",\"MarketCap\",len(PLUG[j]),\"t0\")\n",
    "        testloss.append(hamming_loss(out[1:],PLUG[j][\"t1\"][1:]))\n",
    "for j in range(len(VLO)):\n",
    "    for i in range(n):\n",
    "        out = proj(VLO[j],\"PeRatio\",\"MarketCap\",len(VLO[j]),\"t0\")\n",
    "        testloss.append(hamming_loss(out[1:],VLO[j][\"t1\"][1:]))"
   ]
  },
  {
   "cell_type": "code",
   "execution_count": 21,
   "metadata": {},
   "outputs": [
    {
     "data": {
      "image/png": "[encoded data removed]",
      "text/plain": [
       "<Figure size 432x288 with 1 Axes>"
      ]
     },
     "metadata": {
      "needs_background": "light"
     },
     "output_type": "display_data"
    },
    {
     "data": {
      "text/plain": [
       "count    2000.000000\n",
       "mean        0.495158\n",
       "std         0.113541\n",
       "min         0.157895\n",
       "10%         0.368421\n",
       "20%         0.421053\n",
       "30%         0.421053\n",
       "40%         0.473684\n",
       "50%         0.473684\n",
       "60%         0.526316\n",
       "70%         0.578947\n",
       "80%         0.578947\n",
       "90%         0.631579\n",
       "max         0.842105\n",
       "dtype: float64"
      ]
     },
     "execution_count": 21,
     "metadata": {},
     "output_type": "execute_result"
    }
   ],
   "source": [
    "plt.hist(testloss, bins = 50)\n",
    "plt.show()\n",
    "testloss = pd.Series(testloss)\n",
    "testloss.describe(percentiles = [0.1+0.1*i for i in range(9)])"
   ]
  },
  {
   "cell_type": "code",
   "execution_count": 22,
   "metadata": {},
   "outputs": [],
   "source": [
    "TM = pd.DataFrame(index = [1,0])\n",
    "\n",
    "tm = {\"UU\":0,\"UD\":0,\"DU\":0,\"DD\":0}\n",
    "\n",
    "for x in tick[\"Ticker\"]:\n",
    "    if x not in test_comps:\n",
    "        tm[\"UU\"] += all_tm[x][\"Up\"][\"Up\"]\n",
    "        tm[\"DU\"] += all_tm[x][\"Down\"][\"Up\"]\n",
    "        tm[\"UD\"] += all_tm[x][\"Up\"][\"Down\"]\n",
    "        tm[\"DD\"] += all_tm[x][\"Down\"][\"Down\"]\n",
    "TM[1] = [tm[\"UU\"],tm[\"UD\"]]\n",
    "TM[0] = [tm[\"DU\"],tm[\"DD\"]]\n",
    "TM = scaleMatrix(TM)"
   ]
  },
  {
   "cell_type": "code",
   "execution_count": 23,
   "metadata": {},
   "outputs": [],
   "source": [
    "np.random.seed(10)\n",
    "ptspdce = {}\n",
    "for i in range(len(PDCE)):\n",
    "    ptspdce[i] = pd.DataFrame()\n",
    "    ptspdce[i][\"t0\"] = [PDCE[i][\"t0\"][0]]\n",
    "    \n",
    "ptsdq = {}\n",
    "for i in range(len(DQ)):\n",
    "    ptsdq[i] = pd.DataFrame()\n",
    "    ptsdq[i][\"t0\"] = [DQ[i][\"t0\"][0]]\n",
    "    \n",
    "ptsplug = {}\n",
    "for i in range(len(PLUG)):\n",
    "    ptsplug[i] = pd.DataFrame()\n",
    "    ptsplug[i][\"t0\"] = [PLUG[i][\"t0\"][0]]\n",
    "\n",
    "ptsvlo = {}\n",
    "for i in range(len(VLO)):\n",
    "    ptsvlo[i] = pd.DataFrame()\n",
    "    ptsvlo[i][\"t0\"] = [VLO[i][\"t0\"][0]]\n",
    "\n",
    "ptsloss = []\n",
    "for j in range(len(PDCE)):\n",
    "    for i in range(n):\n",
    "        out = chain(init_state = ptspdce[j], matrix = TM, original_states = [1,0], init_state_col = \"t0\",n=len(PDCE[j])-1)\n",
    "        ptsloss.append(hamming_loss(out.iloc[0][1:],PDCE[j][\"t1\"][1:]))\n",
    "for j in range(len(DQ)):\n",
    "    for i in range(n):\n",
    "        out = chain(init_state = ptsdq[j], matrix = TM, original_states = [1,0], init_state_col = \"t0\",n=len(DQ[j])-1)\n",
    "        ptsloss.append(hamming_loss(out.iloc[0][1:],DQ[j][\"t1\"][1:]))\n",
    "for j in range(len(PLUG)):\n",
    "    for i in range(n):\n",
    "        out = chain(init_state = ptsplug[j], matrix = TM, original_states = [1,0], init_state_col = \"t0\",n=len(PLUG[j])-1)\n",
    "        ptsloss.append(hamming_loss(out.iloc[0][1:],PLUG[j][\"t1\"][1:]))\n",
    "for j in range(len(VLO)):\n",
    "    for i in range(n):\n",
    "        out = chain(init_state = ptsvlo[j], matrix = TM, original_states = [1,0], init_state_col = \"t0\",n=len(VLO[j])-1)\n",
    "        ptsloss.append(hamming_loss(out.iloc[0][1:],VLO[j][\"t1\"][1:]))"
   ]
  },
  {
   "cell_type": "code",
   "execution_count": 24,
   "metadata": {},
   "outputs": [
    {
     "data": {
      "text/plain": [
       "(5, 5, 7, 3)"
      ]
     },
     "execution_count": 24,
     "metadata": {},
     "output_type": "execute_result"
    }
   ],
   "source": [
    "len(ptspdce),len(ptsdq),len(ptsplug),len(ptsvlo)"
   ]
  },
  {
   "cell_type": "code",
   "execution_count": 25,
   "metadata": {},
   "outputs": [
    {
     "data": {
      "image/png": "[encoded data removed]",
      "text/plain": [
       "<Figure size 432x288 with 1 Axes>"
      ]
     },
     "metadata": {
      "needs_background": "light"
     },
     "output_type": "display_data"
    },
    {
     "data": {
      "text/plain": [
       "count    2000.000000\n",
       "mean        0.499026\n",
       "std         0.114865\n",
       "min         0.052632\n",
       "10%         0.368421\n",
       "20%         0.421053\n",
       "30%         0.421053\n",
       "40%         0.473684\n",
       "50%         0.473684\n",
       "60%         0.526316\n",
       "70%         0.578947\n",
       "80%         0.578947\n",
       "90%         0.631579\n",
       "max         0.894737\n",
       "dtype: float64"
      ]
     },
     "execution_count": 25,
     "metadata": {},
     "output_type": "execute_result"
    }
   ],
   "source": [
    "plt.hist(ptsloss, bins = 50)\n",
    "plt.show()\n",
    "ptsloss = pd.Series(ptsloss)\n",
    "ptsloss.describe(percentiles = [0.1+0.1*i for i in range(9)])"
   ]
  },
  {
   "cell_type": "code",
   "execution_count": 26,
   "metadata": {},
   "outputs": [
    {
     "data": {
      "image/png": "[encoded data removed]",
      "text/plain": [
       "<Figure size 1080x1080 with 1 Axes>"
      ]
     },
     "metadata": {
      "needs_background": "light"
     },
     "output_type": "display_data"
    }
   ],
   "source": [
    "f = plt.figure()\n",
    "f.set_figwidth(15)\n",
    "f.set_figheight(15)\n",
    "plt.hist(testloss, bins = 50, alpha = 0.5,density=True)\n",
    "plt.hist(ptsloss, bins = 50,alpha = 0.5,density=True)\n",
    "plt.show()"
   ]
  },
  {
   "cell_type": "code",
   "execution_count": 27,
   "metadata": {},
   "outputs": [
    {
     "data": {
      "image/png": "[encoded data removed]",
      "text/plain": [
       "<Figure size 1080x1080 with 1 Axes>"
      ]
     },
     "metadata": {
      "needs_background": "light"
     },
     "output_type": "display_data"
    }
   ],
   "source": [
    "f = plt.figure()\n",
    "f.set_figwidth(15)\n",
    "f.set_figheight(15)\n",
    "sns.kdeplot(testloss,shade=True)\n",
    "sns.kdeplot(ptsloss,shade=True)\n",
    "plt.xlabel(\"Loss\")\n",
    "plt.ylabel(\"Frequency\")\n",
    "plt.legend([\"Test Chain Loss\",\"Markov Chain Loss\"])\n",
    "plt.show()"
   ]
  },
  {
   "cell_type": "code",
   "execution_count": null,
   "metadata": {},
   "outputs": [],
   "source": []
  }
 ],
 "metadata": {
  "kernelspec": {
   "display_name": "Python 3",
   "language": "python",
   "name": "python3"
  },
  "language_info": {
   "codemirror_mode": {
    "name": "ipython",
    "version": 3
   },
   "file_extension": ".py",
   "mimetype": "text/x-python",
   "name": "python",
   "nbconvert_exporter": "python",
   "pygments_lexer": "ipython3",
   "version": "3.7.4"
  }
 },
 "nbformat": 4,
 "nbformat_minor": 2
}
