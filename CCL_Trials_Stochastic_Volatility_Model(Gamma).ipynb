{
 "cells": [
  {
   "cell_type": "code",
   "execution_count": 1,
   "metadata": {},
   "outputs": [],
   "source": [
    "import numpy as np\n",
    "import pandas as pd\n",
    "import matplotlib.pyplot as plt\n",
    "import scipy.stats as st\n",
    "import statsmodels.api as sm\n",
    "import pylab as py\n",
    "import random\n",
    "import math\n",
    "import os"
   ]
  },
  {
   "cell_type": "code",
   "execution_count": 2,
   "metadata": {},
   "outputs": [],
   "source": [
    "ticker = pd.read_csv(\"/Users/austinriis-due/Documents/GitHub/energy_analytics/CCL-2.csv\")"
   ]
  },
  {
   "cell_type": "code",
   "execution_count": 3,
   "metadata": {
    "scrolled": true
   },
   "outputs": [
    {
     "data": {
      "text/html": [
       "<div>\n",
       "<style scoped>\n",
       "    .dataframe tbody tr th:only-of-type {\n",
       "        vertical-align: middle;\n",
       "    }\n",
       "\n",
       "    .dataframe tbody tr th {\n",
       "        vertical-align: top;\n",
       "    }\n",
       "\n",
       "    .dataframe thead th {\n",
       "        text-align: right;\n",
       "    }\n",
       "</style>\n",
       "<table border=\"1\" class=\"dataframe\">\n",
       "  <thead>\n",
       "    <tr style=\"text-align: right;\">\n",
       "      <th></th>\n",
       "      <th>Date</th>\n",
       "      <th>Open</th>\n",
       "      <th>High</th>\n",
       "      <th>Low</th>\n",
       "      <th>Close</th>\n",
       "      <th>Adj Close</th>\n",
       "      <th>Volume</th>\n",
       "    </tr>\n",
       "  </thead>\n",
       "  <tbody>\n",
       "    <tr>\n",
       "      <td>0</td>\n",
       "      <td>2019-12-02</td>\n",
       "      <td>45.160000</td>\n",
       "      <td>45.180000</td>\n",
       "      <td>44.439999</td>\n",
       "      <td>44.490002</td>\n",
       "      <td>43.976734</td>\n",
       "      <td>3377400</td>\n",
       "    </tr>\n",
       "    <tr>\n",
       "      <td>1</td>\n",
       "      <td>2019-12-03</td>\n",
       "      <td>43.849998</td>\n",
       "      <td>43.849998</td>\n",
       "      <td>43.270000</td>\n",
       "      <td>43.540001</td>\n",
       "      <td>43.037693</td>\n",
       "      <td>3091800</td>\n",
       "    </tr>\n",
       "    <tr>\n",
       "      <td>2</td>\n",
       "      <td>2019-12-04</td>\n",
       "      <td>43.549999</td>\n",
       "      <td>44.340000</td>\n",
       "      <td>43.549999</td>\n",
       "      <td>43.880001</td>\n",
       "      <td>43.373772</td>\n",
       "      <td>2644600</td>\n",
       "    </tr>\n",
       "    <tr>\n",
       "      <td>3</td>\n",
       "      <td>2019-12-05</td>\n",
       "      <td>44.400002</td>\n",
       "      <td>44.500000</td>\n",
       "      <td>43.869999</td>\n",
       "      <td>44.200001</td>\n",
       "      <td>43.690079</td>\n",
       "      <td>3152100</td>\n",
       "    </tr>\n",
       "    <tr>\n",
       "      <td>4</td>\n",
       "      <td>2019-12-06</td>\n",
       "      <td>44.869999</td>\n",
       "      <td>45.119999</td>\n",
       "      <td>44.720001</td>\n",
       "      <td>44.770000</td>\n",
       "      <td>44.253506</td>\n",
       "      <td>3682400</td>\n",
       "    </tr>\n",
       "    <tr>\n",
       "      <td>...</td>\n",
       "      <td>...</td>\n",
       "      <td>...</td>\n",
       "      <td>...</td>\n",
       "      <td>...</td>\n",
       "      <td>...</td>\n",
       "      <td>...</td>\n",
       "      <td>...</td>\n",
       "    </tr>\n",
       "    <tr>\n",
       "      <td>249</td>\n",
       "      <td>2020-11-25</td>\n",
       "      <td>20.480000</td>\n",
       "      <td>20.900000</td>\n",
       "      <td>19.920000</td>\n",
       "      <td>20.650000</td>\n",
       "      <td>20.650000</td>\n",
       "      <td>60387900</td>\n",
       "    </tr>\n",
       "    <tr>\n",
       "      <td>250</td>\n",
       "      <td>2020-11-27</td>\n",
       "      <td>21.000000</td>\n",
       "      <td>22.250000</td>\n",
       "      <td>20.860001</td>\n",
       "      <td>21.580000</td>\n",
       "      <td>21.580000</td>\n",
       "      <td>46919100</td>\n",
       "    </tr>\n",
       "    <tr>\n",
       "      <td>251</td>\n",
       "      <td>2020-11-30</td>\n",
       "      <td>21.770000</td>\n",
       "      <td>21.770000</td>\n",
       "      <td>19.830000</td>\n",
       "      <td>19.980000</td>\n",
       "      <td>19.980000</td>\n",
       "      <td>86740700</td>\n",
       "    </tr>\n",
       "    <tr>\n",
       "      <td>252</td>\n",
       "      <td>2020-12-01</td>\n",
       "      <td>20.990000</td>\n",
       "      <td>21.010000</td>\n",
       "      <td>20.049999</td>\n",
       "      <td>20.150000</td>\n",
       "      <td>20.150000</td>\n",
       "      <td>47884200</td>\n",
       "    </tr>\n",
       "    <tr>\n",
       "      <td>253</td>\n",
       "      <td>2020-12-02</td>\n",
       "      <td>19.809999</td>\n",
       "      <td>21.270000</td>\n",
       "      <td>19.230000</td>\n",
       "      <td>21.160000</td>\n",
       "      <td>21.160000</td>\n",
       "      <td>50751076</td>\n",
       "    </tr>\n",
       "  </tbody>\n",
       "</table>\n",
       "<p>254 rows × 7 columns</p>\n",
       "</div>"
      ],
      "text/plain": [
       "           Date       Open       High        Low      Close  Adj Close  \\\n",
       "0    2019-12-02  45.160000  45.180000  44.439999  44.490002  43.976734   \n",
       "1    2019-12-03  43.849998  43.849998  43.270000  43.540001  43.037693   \n",
       "2    2019-12-04  43.549999  44.340000  43.549999  43.880001  43.373772   \n",
       "3    2019-12-05  44.400002  44.500000  43.869999  44.200001  43.690079   \n",
       "4    2019-12-06  44.869999  45.119999  44.720001  44.770000  44.253506   \n",
       "..          ...        ...        ...        ...        ...        ...   \n",
       "249  2020-11-25  20.480000  20.900000  19.920000  20.650000  20.650000   \n",
       "250  2020-11-27  21.000000  22.250000  20.860001  21.580000  21.580000   \n",
       "251  2020-11-30  21.770000  21.770000  19.830000  19.980000  19.980000   \n",
       "252  2020-12-01  20.990000  21.010000  20.049999  20.150000  20.150000   \n",
       "253  2020-12-02  19.809999  21.270000  19.230000  21.160000  21.160000   \n",
       "\n",
       "       Volume  \n",
       "0     3377400  \n",
       "1     3091800  \n",
       "2     2644600  \n",
       "3     3152100  \n",
       "4     3682400  \n",
       "..        ...  \n",
       "249  60387900  \n",
       "250  46919100  \n",
       "251  86740700  \n",
       "252  47884200  \n",
       "253  50751076  \n",
       "\n",
       "[254 rows x 7 columns]"
      ]
     },
     "execution_count": 3,
     "metadata": {},
     "output_type": "execute_result"
    }
   ],
   "source": [
    "ticker"
   ]
  },
  {
   "cell_type": "code",
   "execution_count": 4,
   "metadata": {},
   "outputs": [
    {
     "data": {
      "text/plain": [
       "count    254.000000\n",
       "mean      -0.000004\n",
       "std        0.075606\n",
       "min       -0.331815\n",
       "25%       -0.028924\n",
       "50%        0.000000\n",
       "75%        0.029301\n",
       "max        0.392909\n",
       "Name: Returns, dtype: float64"
      ]
     },
     "execution_count": 4,
     "metadata": {},
     "output_type": "execute_result"
    }
   ],
   "source": [
    "#adding daily returns column close to close\n",
    "r = [0]\n",
    "i = 1\n",
    "while i < len(ticker.Close):\n",
    "    s = (ticker.Close[i] / ticker.Close[i-1])-1\n",
    "    r.append(s)\n",
    "    i+= 1\n",
    "r[0] = sum(r)/len(r) #no data before row 0; inserted average\n",
    "ticker[\"Returns\"] = r\n",
    "ticker.Returns.describe()"
   ]
  },
  {
   "cell_type": "code",
   "execution_count": 5,
   "metadata": {},
   "outputs": [
    {
     "data": {
      "text/plain": [
       "count    2.540000e+02\n",
       "mean     4.975478e-02\n",
       "std      5.684194e-02\n",
       "min      1.421655e-08\n",
       "25%      1.291173e-02\n",
       "50%      2.938640e-02\n",
       "75%      6.627670e-02\n",
       "max      3.929125e-01\n",
       "Name: devObs, dtype: float64"
      ]
     },
     "execution_count": 5,
     "metadata": {},
     "output_type": "execute_result"
    }
   ],
   "source": [
    "# daily deviation from mean\n",
    "devObs = abs(ticker[\"Returns\"] - ticker.Returns.mean())\n",
    "ticker[\"devObs\"] = devObs\n",
    "ticker.devObs.describe()"
   ]
  },
  {
   "cell_type": "code",
   "execution_count": 6,
   "metadata": {},
   "outputs": [
    {
     "data": {
      "text/plain": [
       "[<matplotlib.lines.Line2D at 0x7fcc1162e250>]"
      ]
     },
     "execution_count": 6,
     "metadata": {},
     "output_type": "execute_result"
    },
    {
     "data": {
      "image/png": "[encoded data removed]",
      "text/plain": [
       "<Figure size 432x288 with 1 Axes>"
      ]
     },
     "metadata": {
      "needs_background": "light"
     },
     "output_type": "display_data"
    }
   ],
   "source": [
    "#plotting daily volatilities\n",
    "fig, ax = plt.subplots(1, 1)\n",
    "ax.plot(ticker.devObs)"
   ]
  },
  {
   "cell_type": "code",
   "execution_count": 7,
   "metadata": {},
   "outputs": [
    {
     "data": {
      "text/plain": [
       "0.06493861115206127"
      ]
     },
     "execution_count": 7,
     "metadata": {},
     "output_type": "execute_result"
    }
   ],
   "source": [
    "# fitting theta parameter\n",
    "t = (((ticker.devObs.std())**2))/ticker.devObs.mean()\n",
    "t"
   ]
  },
  {
   "cell_type": "markdown",
   "metadata": {},
   "source": [
    "## Basic Monte Carlo Simulation"
   ]
  },
  {
   "cell_type": "code",
   "execution_count": 8,
   "metadata": {},
   "outputs": [
    {
     "data": {
      "text/plain": [
       "0.766181779081882"
      ]
     },
     "execution_count": 8,
     "metadata": {},
     "output_type": "execute_result"
    }
   ],
   "source": [
    "# fitting alpha parameter\n",
    "a = ticker.devObs.mean()/t\n",
    "a"
   ]
  },
  {
   "cell_type": "code",
   "execution_count": 9,
   "metadata": {},
   "outputs": [
    {
     "name": "stdout",
     "output_type": "stream",
     "text": [
      "0.04975478062359285\n"
     ]
    }
   ],
   "source": [
    "# sanity check\n",
    "print(a*t)"
   ]
  },
  {
   "cell_type": "code",
   "execution_count": 10,
   "metadata": {},
   "outputs": [],
   "source": [
    "# monte carlo sim from gamma distribution\n",
    "def getVol(alpha, theta):\n",
    "    u = random.uniform(0,1)\n",
    "    return(st.gamma.ppf(u,a=alpha,scale = theta))"
   ]
  },
  {
   "cell_type": "code",
   "execution_count": 11,
   "metadata": {},
   "outputs": [
    {
     "data": {
      "text/plain": [
       "0.04575702574952702"
      ]
     },
     "execution_count": 11,
     "metadata": {},
     "output_type": "execute_result"
    }
   ],
   "source": [
    "# sanity check \n",
    "getVol(a,t)"
   ]
  },
  {
   "cell_type": "code",
   "execution_count": 12,
   "metadata": {},
   "outputs": [],
   "source": [
    "#monte carlo sim for returns and price formula\n",
    "def getPrice(s_0,mu,divs, alpha, theta):\n",
    "    sigma = getVol(alpha, theta)\n",
    "    u = random.uniform(0,1)\n",
    "    Z = st.norm.ppf(u)\n",
    "    return(s_0*math.exp(mu - divs-(.5*(sigma**2))+sigma*Z))"
   ]
  },
  {
   "cell_type": "code",
   "execution_count": 13,
   "metadata": {},
   "outputs": [],
   "source": [
    "#test for 2 day paths based on last close price *non stratified*\n",
    "#s1 = [getPrice(s_0 = ticker.Close[251],mu = ticker[\"Returns\"].mean(),divs = 0,alpha = a,theta = t) for x in range(1000000)]\n",
    "#s2 = [getPrice(s_0 = v,mu = ticker[\"Returns\"].mean(),divs = 0,alpha = a,theta = t) for v in s1]"
   ]
  },
  {
   "cell_type": "code",
   "execution_count": 14,
   "metadata": {},
   "outputs": [],
   "source": [
    "# day one test stats\n",
    "#pd.Series(s1).describe()"
   ]
  },
  {
   "cell_type": "code",
   "execution_count": 15,
   "metadata": {},
   "outputs": [],
   "source": [
    "#day two test stats\n",
    "#pd.Series(s2).describe()"
   ]
  },
  {
   "cell_type": "code",
   "execution_count": 16,
   "metadata": {},
   "outputs": [],
   "source": [
    "#day one histogram\n",
    "#plt.hist(s1)"
   ]
  },
  {
   "cell_type": "code",
   "execution_count": 17,
   "metadata": {},
   "outputs": [],
   "source": [
    "#day two histogram\n",
    "#plt.hist(s2)"
   ]
  },
  {
   "cell_type": "markdown",
   "metadata": {},
   "source": [
    "## Graphical Analyses and Stress Tests"
   ]
  },
  {
   "cell_type": "code",
   "execution_count": 18,
   "metadata": {},
   "outputs": [
    {
     "data": {
      "image/png": "[encoded data removed]",
      "text/plain": [
       "<Figure size 432x288 with 1 Axes>"
      ]
     },
     "metadata": {
      "needs_background": "light"
     },
     "output_type": "display_data"
    }
   ],
   "source": [
    "# probability plot of gamma against data\n",
    "fig, ax = plt.subplots(1, 1)\n",
    "st.probplot(ticker.devObs.sort_values(), sparams = (a,t),plot = ax,dist = 'gamma')\n",
    "plt.show()"
   ]
  },
  {
   "cell_type": "code",
   "execution_count": 19,
   "metadata": {},
   "outputs": [
    {
     "data": {
      "image/png": "[encoded data removed]",
      "text/plain": [
       "<Figure size 432x288 with 1 Axes>"
      ]
     },
     "metadata": {
      "needs_background": "light"
     },
     "output_type": "display_data"
    }
   ],
   "source": [
    "# probability plot of exponential against data\n",
    "fig, ax = plt.subplots(1, 1)\n",
    "st.probplot(ticker.devObs.sort_values(), sparams = (1,ticker.devObs.mean()),plot = ax,dist = 'gamma')\n",
    "plt.show()"
   ]
  },
  {
   "cell_type": "code",
   "execution_count": 20,
   "metadata": {},
   "outputs": [],
   "source": [
    "# likelihood ratio test to see if exponential is better fit for volatility\n",
    "Lgam = [math.log(st.gamma.pdf(x,a=a,scale=t)) for x in ticker.devObs]\n",
    "Lexp = [math.log(st.gamma.pdf(x,a = 1, scale = ticker.devObs.mean())) for x in ticker.devObs]"
   ]
  },
  {
   "cell_type": "code",
   "execution_count": 21,
   "metadata": {},
   "outputs": [],
   "source": [
    "def loglikelihood(list):\n",
    "    s = 0\n",
    "    for i in list:\n",
    "        s+=i\n",
    "    return s"
   ]
  },
  {
   "cell_type": "code",
   "execution_count": 22,
   "metadata": {},
   "outputs": [
    {
     "data": {
      "text/plain": [
       "16.39018273047941"
      ]
     },
     "execution_count": 22,
     "metadata": {},
     "output_type": "execute_result"
    }
   ],
   "source": [
    "test_stat = 2*((loglikelihood(Lgam)-.5*math.log(253)-(loglikelihood(Lexp)-math.log(253))))\n",
    "test_stat \n",
    "# if fail to reject on 1 degree of freedom use gamma"
   ]
  },
  {
   "cell_type": "code",
   "execution_count": 23,
   "metadata": {},
   "outputs": [
    {
     "data": {
      "image/png": "[encoded data removed]",
      "text/plain": [
       "<Figure size 432x288 with 1 Axes>"
      ]
     },
     "metadata": {
      "needs_background": "light"
     },
     "output_type": "display_data"
    }
   ],
   "source": [
    "# probability plot of returns against data\n",
    "# should have heavy tail indicator\n",
    "fig, ax = plt.subplots(1, 1)\n",
    "st.probplot(ticker.Returns.sort_values(), sparams = (ticker.Returns.mean(),ticker.Returns.std()),plot = ax,dist = 'norm')\n",
    "plt.show()"
   ]
  },
  {
   "cell_type": "code",
   "execution_count": 24,
   "metadata": {},
   "outputs": [],
   "source": [
    "#monte carlo for returns\n",
    "def getReturns(mu,sigma,l,u):\n",
    "    q = random.uniform(l,u)\n",
    "    return st.norm.ppf(q,loc = mu, scale = sigma)"
   ]
  },
  {
   "cell_type": "code",
   "execution_count": 25,
   "metadata": {},
   "outputs": [
    {
     "data": {
      "text/plain": [
       "(array([ 6.,  9., 26., 45., 60., 53., 35., 12.,  7.,  1.]),\n",
       " array([-0.13774493, -0.10835469, -0.07896444, -0.04957419, -0.02018395,\n",
       "         0.0092063 ,  0.03859654,  0.06798679,  0.09737704,  0.12676728,\n",
       "         0.15615753]),\n",
       " <a list of 10 Patch objects>)"
      ]
     },
     "execution_count": 25,
     "metadata": {},
     "output_type": "execute_result"
    },
    {
     "data": {
      "image/png": "[encoded data removed]",
      "text/plain": [
       "<Figure size 432x288 with 1 Axes>"
      ]
     },
     "metadata": {
      "needs_background": "light"
     },
     "output_type": "display_data"
    }
   ],
   "source": [
    "# test for returns\n",
    "j = h = 1/len(ticker.Returns)\n",
    "i = 0\n",
    "test = []\n",
    "while j < 1:\n",
    "    x = [getReturns(mu = ticker.Returns.mean(), sigma = getVol(a,t),l = i, u = j) for x in range(100)]\n",
    "    test.append(sum(x)/len(x))\n",
    "    i += h\n",
    "    j += h\n",
    "plt.hist(test)"
   ]
  },
  {
   "cell_type": "code",
   "execution_count": 26,
   "metadata": {},
   "outputs": [
    {
     "data": {
      "text/plain": [
       "(array([  3.,   2.,   6.,  36., 144.,  44.,  16.,   2.,   0.,   1.]),\n",
       " array([-0.33181473, -0.25934237, -0.18687002, -0.11439766, -0.04192531,\n",
       "         0.03054705,  0.1030194 ,  0.17549176,  0.24796412,  0.32043647,\n",
       "         0.39290883]),\n",
       " <a list of 10 Patch objects>)"
      ]
     },
     "execution_count": 26,
     "metadata": {},
     "output_type": "execute_result"
    },
    {
     "data": {
      "image/png": "[encoded data removed]",
      "text/plain": [
       "<Figure size 432x288 with 1 Axes>"
      ]
     },
     "metadata": {
      "needs_background": "light"
     },
     "output_type": "display_data"
    }
   ],
   "source": [
    "plt.hist(ticker.Returns)"
   ]
  },
  {
   "cell_type": "code",
   "execution_count": 27,
   "metadata": {},
   "outputs": [
    {
     "data": {
      "text/plain": [
       "Ttest_indResult(statistic=0.050618419297078845, pvalue=0.9596495600965571)"
      ]
     },
     "execution_count": 27,
     "metadata": {},
     "output_type": "execute_result"
    }
   ],
   "source": [
    "st.ttest_ind(pd.Series(ticker.Returns).sort_values(),pd.Series(test).sort_values())"
   ]
  },
  {
   "cell_type": "code",
   "execution_count": 28,
   "metadata": {},
   "outputs": [
    {
     "data": {
      "text/plain": [
       "<matplotlib.collections.PathCollection at 0x7fcc0c911a50>"
      ]
     },
     "execution_count": 28,
     "metadata": {},
     "output_type": "execute_result"
    },
    {
     "data": {
      "image/png": "[encoded data removed]",
      "text/plain": [
       "<Figure size 432x288 with 1 Axes>"
      ]
     },
     "metadata": {
      "needs_background": "light"
     },
     "output_type": "display_data"
    }
   ],
   "source": [
    "# qq plot for returns\n",
    "# should indicate heavy tails\n",
    "plt.scatter(pd.Series(ticker.Returns).sort_values(),pd.Series(test).sort_values())\n",
    "plt.scatter([x/1000 for x in range(-100,100)],[x/1000 for x in range(-100,100)], alpha = .1)"
   ]
  },
  {
   "cell_type": "code",
   "execution_count": 29,
   "metadata": {},
   "outputs": [
    {
     "data": {
      "text/plain": [
       "(array([145.,  54.,  27.,  13.,   7.,   4.,   2.,   1.,   0.,   1.]),\n",
       " array([1.82513653e-05, 3.86163279e-02, 7.72144045e-02, 1.15812481e-01,\n",
       "        1.54410558e-01, 1.93008634e-01, 2.31606711e-01, 2.70204787e-01,\n",
       "        3.08802864e-01, 3.47400941e-01, 3.85999017e-01]),\n",
       " <a list of 10 Patch objects>)"
      ]
     },
     "execution_count": 29,
     "metadata": {},
     "output_type": "execute_result"
    },
    {
     "data": {
      "image/png": "[encoded data removed]",
      "text/plain": [
       "<Figure size 432x288 with 1 Axes>"
      ]
     },
     "metadata": {
      "needs_background": "light"
     },
     "output_type": "display_data"
    }
   ],
   "source": [
    "#Checking Stratified Volatility\n",
    "def getVolStrata(alpha, theta,l,u):\n",
    "    u = random.uniform(l,u)\n",
    "    return(st.gamma.ppf(u,a=alpha,scale = theta))\n",
    "\n",
    "j = h = 1/len(ticker.devObs)\n",
    "i = 0\n",
    "test = []\n",
    "while j < 1:\n",
    "    x = [getVolStrata(a,t,l = i, u = j) for x in range(100)]\n",
    "    test.append(sum(x)/len(x))\n",
    "    i += h\n",
    "    j += h\n",
    "plt.hist(test)"
   ]
  },
  {
   "cell_type": "code",
   "execution_count": 30,
   "metadata": {},
   "outputs": [
    {
     "data": {
      "text/plain": [
       "Ttest_indResult(statistic=-0.002304849269019476, pvalue=0.998161906357544)"
      ]
     },
     "execution_count": 30,
     "metadata": {},
     "output_type": "execute_result"
    }
   ],
   "source": [
    "st.ttest_ind(pd.Series(ticker.devObs).sort_values(),pd.Series(test).sort_values())"
   ]
  },
  {
   "cell_type": "code",
   "execution_count": 31,
   "metadata": {},
   "outputs": [
    {
     "data": {
      "text/plain": [
       "<matplotlib.collections.PathCollection at 0x7fcc13821b10>"
      ]
     },
     "execution_count": 31,
     "metadata": {},
     "output_type": "execute_result"
    },
    {
     "data": {
      "image/png": "[encoded data removed]",
      "text/plain": [
       "<Figure size 432x288 with 1 Axes>"
      ]
     },
     "metadata": {
      "needs_background": "light"
     },
     "output_type": "display_data"
    }
   ],
   "source": [
    "plt.scatter(pd.Series(ticker.devObs).sort_values(),pd.Series(test).sort_values())\n",
    "plt.scatter([x/1000 for x in range(0,120)],[x/1000 for x in range(0,120)], alpha = .1)"
   ]
  },
  {
   "cell_type": "markdown",
   "metadata": {},
   "source": [
    "## Stratified Monte Carlo Modeling"
   ]
  },
  {
   "cell_type": "code",
   "execution_count": 32,
   "metadata": {},
   "outputs": [],
   "source": [
    "# Stratified volatility sampling\n",
    "def getVolStrata(alpha, theta,l,u):\n",
    "    u = random.uniform(l,u)\n",
    "    return(st.gamma.ppf(u,a=alpha,scale = theta))"
   ]
  },
  {
   "cell_type": "code",
   "execution_count": 33,
   "metadata": {},
   "outputs": [],
   "source": [
    "# Stratified price sampling\n",
    "def getPriceStrata(s_0,mu,divs, alpha, theta,low,up,bottom,top):\n",
    "    sigma = getVolStrata(alpha, theta,bottom,top)\n",
    "    u = random.uniform(low,up)\n",
    "    Z = st.norm.ppf(u)\n",
    "    return(s_0*math.exp(mu - divs-(.5*(sigma**2))+sigma*Z))"
   ]
  },
  {
   "cell_type": "code",
   "execution_count": 83,
   "metadata": {},
   "outputs": [
    {
     "data": {
      "text/plain": [
       "count    10000.000000\n",
       "mean        20.149356\n",
       "std          1.528472\n",
       "min          6.572153\n",
       "25%         19.799201\n",
       "50%         20.148273\n",
       "75%         20.453276\n",
       "max         44.846053\n",
       "dtype: float64"
      ]
     },
     "execution_count": 83,
     "metadata": {},
     "output_type": "execute_result"
    }
   ],
   "source": [
    "# Stratified paths for next day\n",
    "s1 = []\n",
    "l = 0\n",
    "u = .01\n",
    "y = 0\n",
    "z = .01\n",
    "h = .01\n",
    "while round(u,6) <= 1:\n",
    "    while round(z,6) <= 1:\n",
    "        s1.append(getPriceStrata(s_0 = ticker.Close[252],mu = ticker[\"Returns\"].mean(),divs = 0,alpha = a,theta = t, low = l, up = u, bottom = y, top = z))\n",
    "        y += h\n",
    "        z += h\n",
    "    l += h\n",
    "    u += h\n",
    "    y = 0\n",
    "    z = .01\n",
    "\n",
    "pd.Series(s1).describe()"
   ]
  },
  {
   "cell_type": "code",
   "execution_count": 35,
   "metadata": {},
   "outputs": [
    {
     "data": {
      "text/plain": [
       "(array([6.000e+00, 4.600e+01, 3.120e+02, 7.921e+03, 1.529e+03, 1.350e+02,\n",
       "        3.700e+01, 7.000e+00, 4.000e+00, 3.000e+00]),\n",
       " array([ 8.08782371, 11.25432659, 14.42082947, 17.58733235, 20.75383523,\n",
       "        23.92033812, 27.086841  , 30.25334388, 33.41984676, 36.58634964,\n",
       "        39.75285252]),\n",
       " <a list of 10 Patch objects>)"
      ]
     },
     "execution_count": 35,
     "metadata": {},
     "output_type": "execute_result"
    },
    {
     "data": {
      "image/png": "[encoded data removed]",
      "text/plain": [
       "<Figure size 432x288 with 1 Axes>"
      ]
     },
     "metadata": {
      "needs_background": "light"
     },
     "output_type": "display_data"
    }
   ],
   "source": [
    "plt.hist(s1)"
   ]
  },
  {
   "cell_type": "code",
   "execution_count": 36,
   "metadata": {},
   "outputs": [],
   "source": [
    "# Put Payoff Function\n",
    "def PutPayoff(pricesT, k):\n",
    "    PutPayoff = []\n",
    "    for x in pricesT:\n",
    "        if k-x>0:\n",
    "            PutPayoff.append(k-x)\n",
    "        else:\n",
    "            PutPayoff.append(0)\n",
    "    return pd.Series(PutPayoff)"
   ]
  },
  {
   "cell_type": "code",
   "execution_count": 37,
   "metadata": {},
   "outputs": [],
   "source": [
    "# Call Payoff Function\n",
    "def CallPayoff(pricesT, k):\n",
    "    CallPayoff = []\n",
    "    for x in pricesT:\n",
    "        if x-k>0:\n",
    "            CallPayoff.append(x-k)\n",
    "        else:\n",
    "            CallPayoff.append(0)\n",
    "    return pd.Series(CallPayoff)"
   ]
  },
  {
   "cell_type": "code",
   "execution_count": 127,
   "metadata": {},
   "outputs": [],
   "source": [
    "# Prices for any number of days \n",
    "# Based on initial path calculated above\n",
    "def PriceIt(Stop, s_0):\n",
    "    days = 0\n",
    "    while days < Stop:\n",
    "        s_New = []\n",
    "        l = 0\n",
    "        u = .01\n",
    "        y = 0\n",
    "        z = .01\n",
    "        h = .01\n",
    "        for s in s_0:\n",
    "            while round(u,6) <= 1:\n",
    "                while round(z,6) <= 1:\n",
    "                    s_New.append(getPriceStrata(s_0 = s,mu = ticker[\"Returns\"].mean(),divs = 0,alpha = a,theta = t, low = l, up = u, bottom = y, top = z))\n",
    "                    y += h\n",
    "                    z += h\n",
    "                l += h\n",
    "                u += h\n",
    "                y = 0\n",
    "                z = .01\n",
    "        s_0 = s_New\n",
    "        days += 1\n",
    "    return pd.Series(s_New)"
   ]
  },
  {
   "cell_type": "code",
   "execution_count": 128,
   "metadata": {},
   "outputs": [],
   "source": [
    "# Gives probability of jump to a loss for a put with given strike\n",
    "# on day that series refers to\n",
    "def getStrikePrLossPut(strike, series):\n",
    "    series = pd.Series(series)\n",
    "    for price in list(series.sort_values()):\n",
    "        if price >= strike:\n",
    "            return 1-(list(series.sort_values()).index(price)/len(list(series.sort_values())))\n",
    "    return 1"
   ]
  },
  {
   "cell_type": "code",
   "execution_count": 129,
   "metadata": {},
   "outputs": [],
   "source": [
    "# Gives probability of jump to a loss for a call with given strike\n",
    "# on day that series refers to\n",
    "def getStrikePrLossCall(strike, series):\n",
    "    series = pd.Series(series)\n",
    "    for price in list(series.sort_values()):\n",
    "        if price >= strike:\n",
    "            return (list(series.sort_values()).index(price)/len(list(series.sort_values())))\n",
    "    return 1"
   ]
  },
  {
   "cell_type": "code",
   "execution_count": 130,
   "metadata": {},
   "outputs": [],
   "source": [
    "# stratified pathwise monte carlo runs\n",
    "# tomorrow is s1\n",
    "# next day is based on s1\n",
    "# mon = PriceIt(1,s1)\n",
    "# tues = PriceIt(1,mon)\n",
    "# wed = PriceIt(1,tues)\n",
    "# th = PriceIt(1,wed)\n",
    "#fr = PriceIt(1,th)"
   ]
  },
  {
   "cell_type": "code",
   "execution_count": 131,
   "metadata": {},
   "outputs": [],
   "source": [
    "# one at a time, better probability estimate\n",
    "s12022020 = PriceIt(1,s1)\n",
    "s12032020 = PriceIt(1,s12022020)\n",
    "s12042020 = PriceIt(1,s12032020)\n",
    "s12072020 = PriceIt(1,s12042020)\n",
    "s12082020 = PriceIt(1,s12072020)\n",
    "s12092020 = PriceIt(1,s12082020)\n",
    "s12102020 = PriceIt(1,s12092020)\n",
    "s12112020 = PriceIt(1,s12102020)\n",
    "s12142020 = PriceIt(1,s12112020)\n",
    "s12152020 = PriceIt(1,s12142020)\n",
    "s12162020 = PriceIt(1,s12152020)\n",
    "s12172020 = PriceIt(1,s12162020)\n",
    "s12182020 = PriceIt(1,s12172020)\n",
    "s12212020 = PriceIt(1,s12182020)\n",
    "s12222020 = PriceIt(1,s12212020)\n",
    "s12232020 = PriceIt(1,s12222020)\n",
    "s12242020 = PriceIt(1,s12232020)\n",
    "s12252020 = PriceIt(1,s12242020)\n",
    "s12282020 = PriceIt(1,s12252020)\n",
    "s12292020 = PriceIt(1,s12282020)\n",
    "s12302020 = PriceIt(1,s12292020)\n",
    "s12312020 = PriceIt(1,s12302020)\n",
    "s01012021 = PriceIt(1,s12312020)\n",
    "s01042021 = PriceIt(1,s01012021)\n",
    "s01052021 = PriceIt(1,s01042021)\n",
    "s01062021 = PriceIt(1,s01052021)\n",
    "s01072021 = PriceIt(1,s01062021)\n",
    "s01082021 = PriceIt(1,s01072021)\n",
    "s01112021 = PriceIt(1,s01082021)\n",
    "s01122021 = PriceIt(1,s01112021)\n",
    "s01132021 = PriceIt(1,s01122021)\n",
    "s01142021 = PriceIt(1,s01132021)\n",
    "s01152021 = PriceIt(1,s01142021)\n",
    "s01182021 = PriceIt(1,s01152021)\n",
    "s01192021 = PriceIt(1,s01182021)\n",
    "s01202021 = PriceIt(1,s01192021)\n",
    "s01212021 = PriceIt(1,s01202021)"
   ]
  },
  {
   "cell_type": "code",
   "execution_count": 159,
   "metadata": {},
   "outputs": [
    {
     "data": {
      "text/plain": [
       "0.8828"
      ]
     },
     "execution_count": 159,
     "metadata": {},
     "output_type": "execute_result"
    }
   ],
   "source": [
    "#. probability estimation\n",
    "k = 21\n",
    "1-(getStrikePrLossPut(k,s12022020)*getStrikePrLossPut(k,s12032020)*getStrikePrLossPut(k,s12042020)*getStrikePrLossPut(k,s12072020)*getStrikePrLossPut(k,s12082020)*getStrikePrLossPut(k,s12092020)*getStrikePrLossPut(k,s12102020)*getStrikePrLossPut(k,s12112020)*getStrikePrLossPut(k,s12142020)*getStrikePrLossPut(k,s12152020)*getStrikePrLossPut(k,s12162020)*getStrikePrLossPut(k,s12172020)*getStrikePrLossPut(k,s12182020)*getStrikePrLossPut(k,s12212020)*getStrikePrLossPut(k,s12222020)*getStrikePrLossPut(k,s12232020)*getStrikePrLossPut(k,s12242020)*getStrikePrLossPut(k,s12252020)*getStrikePrLossPut(k,s12282020)*getStrikePrLossPut(k,s12292020)*getStrikePrLossPut(k,s12302020)*getStrikePrLossPut(k,s12312020)*getStrikePrLossPut(k,s01012021)*getStrikePrLossPut(k,s01042021)*getStrikePrLossPut(k,s01052021)*getStrikePrLossPut(k,s01062021)*getStrikePrLossPut(k,s01072021)*getStrikePrLossPut(k,s01082021)*getStrikePrLossPut(k,s01112021)*getStrikePrLossPut(k,s01122021)*getStrikePrLossPut(k,s01132021)*getStrikePrLossPut(k,s01142021)*getStrikePrLossPut(k,s01152021)*getStrikePrLossPut(k,s01182021)*getStrikePrLossPut(k,s01192021)*getStrikePrLossPut(k,s01202021)*getStrikePrLossPut(k,s01212021))"
   ]
  },
  {
   "cell_type": "code",
   "execution_count": 158,
   "metadata": {},
   "outputs": [
    {
     "data": {
      "text/plain": [
       "0.11719999999999997"
      ]
     },
     "execution_count": 158,
     "metadata": {},
     "output_type": "execute_result"
    }
   ],
   "source": [
    "k = 21\n",
    "1-(getStrikePrLossCall(k,s12022020)*getStrikePrLossCall(k,s12032020)*getStrikePrLossCall(k,s12042020)*getStrikePrLossCall(k,s12072020)*getStrikePrLossCall(k,s12082020)*getStrikePrLossCall(k,s12092020)*getStrikePrLossCall(k,s12102020)*getStrikePrLossCall(k,s12112020)*getStrikePrLossCall(k,s12142020)*getStrikePrLossCall(k,s12152020)*getStrikePrLossCall(k,s12162020)*getStrikePrLossCall(k,s12172020)*getStrikePrLossCall(k,s12182020)*getStrikePrLossCall(k,s12212020)*getStrikePrLossCall(k,s12222020)*getStrikePrLossCall(k,s12232020)*getStrikePrLossCall(k,s12242020)*getStrikePrLossCall(k,s12252020)*getStrikePrLossCall(k,s12282020)*getStrikePrLossCall(k,s12292020)*getStrikePrLossCall(k,s12302020)*getStrikePrLossCall(k,s12312020)*getStrikePrLossCall(k,s01012021)*getStrikePrLossCall(k,s01042021)*getStrikePrLossCall(k,s01052021)*getStrikePrLossCall(k,s01062021)*getStrikePrLossCall(k,s01072021)*getStrikePrLossCall(k,s01082021)*getStrikePrLossCall(k,s01112021)*getStrikePrLossCall(k,s01122021)*getStrikePrLossCall(k,s01132021)*getStrikePrLossCall(k,s01142021)*getStrikePrLossCall(k,s01152021)*getStrikePrLossCall(k,s01182021)*getStrikePrLossCall(k,s01192021)*getStrikePrLossCall(k,s01202021)*getStrikePrLossCall(k,s01212021))"
   ]
  },
  {
   "cell_type": "code",
   "execution_count": 134,
   "metadata": {},
   "outputs": [],
   "source": [
    "dailyprices = [s12022020,s12032020,s12042020,s12072020,s12082020,s12092020,s12102020,s12112020,s12142020,s12152020,s12162020,s12172020,s12182020,s12212020,s12222020,s12232020,s12242020,s12252020,s12282020,s12292020,s12302020,s12312020,s01012021,s01042021,s01052021,s01062021,s01072021,s01082021,s01112021,s01122021,s01132021,s01142021,s01152021,s01182021,s01192021,s01202021,s01212021]"
   ]
  },
  {
   "cell_type": "code",
   "execution_count": 135,
   "metadata": {},
   "outputs": [
    {
     "data": {
      "text/plain": [
       "[20.14828072423046,\n",
       " 20.14324928377121,\n",
       " 20.135586681680934,\n",
       " 20.13443367566937,\n",
       " 20.135510294728917,\n",
       " 20.133869465823345,\n",
       " 20.127055582213718,\n",
       " 20.13015183069753,\n",
       " 20.120371617159666,\n",
       " 20.121990948543345,\n",
       " 20.113506565692216,\n",
       " 20.11095548137281,\n",
       " 20.105284531883964,\n",
       " 20.101863373852925,\n",
       " 20.098394818539006,\n",
       " 20.101630394264042,\n",
       " 20.099382127834883,\n",
       " 20.09149459624872,\n",
       " 20.091389841117653,\n",
       " 20.083574906579983,\n",
       " 20.088254803570507,\n",
       " 20.083954509159096,\n",
       " 20.076704289342956,\n",
       " 20.07064833446652,\n",
       " 20.063349644176338,\n",
       " 20.061976979947204,\n",
       " 20.056242937402533,\n",
       " 20.051870444420732,\n",
       " 20.049411413490063,\n",
       " 20.048748503969694,\n",
       " 20.047999726380723,\n",
       " 20.045259194119115,\n",
       " 20.03757329533914,\n",
       " 20.02928411681458,\n",
       " 20.02670527320975,\n",
       " 20.022059386741752,\n",
       " 20.02207285631946]"
      ]
     },
     "execution_count": 135,
     "metadata": {},
     "output_type": "execute_result"
    }
   ],
   "source": [
    "means = []\n",
    "for day in dailyprices:\n",
    "    means.append(day.mean())\n",
    "means"
   ]
  },
  {
   "cell_type": "code",
   "execution_count": 136,
   "metadata": {},
   "outputs": [
    {
     "data": {
      "text/plain": [
       "<matplotlib.collections.PathCollection at 0x7fcbfa6a57d0>"
      ]
     },
     "execution_count": 136,
     "metadata": {},
     "output_type": "execute_result"
    },
    {
     "data": {
      "image/png": "[encoded data removed]",
      "text/plain": [
       "<Figure size 432x288 with 1 Axes>"
      ]
     },
     "metadata": {
      "needs_background": "light"
     },
     "output_type": "display_data"
    }
   ],
   "source": [
    "plt.scatter([i for i in range(len(means))],means)"
   ]
  },
  {
   "cell_type": "code",
   "execution_count": 137,
   "metadata": {},
   "outputs": [],
   "source": [
    "def PutPrune(sa,sb,k):\n",
    "    sc = sa\n",
    "    ave = sum(PutPayoff(sb,k))/len(PutPayoff(sb,k))\n",
    "    i = 0\n",
    "    while i < len(sa):\n",
    "        if k-sc[i] <= ave:\n",
    "            sc[i] = ave\n",
    "        else:\n",
    "            sc[i] = k - sc[i]\n",
    "        i+= 1\n",
    "    return sc"
   ]
  },
  {
   "cell_type": "code",
   "execution_count": 138,
   "metadata": {},
   "outputs": [],
   "source": [
    "def CallPrune(sa,sb,k):\n",
    "    sc = sa\n",
    "    ave = sum(CallPayoff(sb,k))/len(CallPayoff(sb,k))\n",
    "    i = 0\n",
    "    while i < len(sa):\n",
    "        if sc[i]-k <= ave:\n",
    "            sc[i] = ave\n",
    "        else:\n",
    "            sc[i] = sc[i]-k\n",
    "        i+= 1\n",
    "    return sc"
   ]
  },
  {
   "cell_type": "code",
   "execution_count": 139,
   "metadata": {},
   "outputs": [],
   "source": [
    "def RecursivePutPrune(prices,k):\n",
    "    a = 2\n",
    "    b = 1\n",
    "    while a < len(prices):\n",
    "        pruned = PutPrune(prices[-a],prices[-b],k)\n",
    "        pruned = PutPrune(prices[-a-1],pruned,k)\n",
    "        a+= 1\n",
    "        b += 1\n",
    "    return pd.Series(pruned)"
   ]
  },
  {
   "cell_type": "code",
   "execution_count": 140,
   "metadata": {},
   "outputs": [],
   "source": [
    "def RecursiveCallPrune(prices,k):\n",
    "    a = 2\n",
    "    b = 1\n",
    "    while a < len(prices):\n",
    "        pruned = CallPrune(prices[-a],prices[-b],k)\n",
    "        pruned = CallPrune(prices[-a-1],pruned,k)\n",
    "        a+= 1\n",
    "        b += 1\n",
    "    return pd.Series(pruned)"
   ]
  },
  {
   "cell_type": "code",
   "execution_count": 141,
   "metadata": {},
   "outputs": [
    {
     "data": {
      "text/plain": [
       "count    10000.000000\n",
       "mean         4.180467\n",
       "std          0.329179\n",
       "min          4.145134\n",
       "25%          4.145134\n",
       "50%          4.145134\n",
       "75%          4.145134\n",
       "max         14.197842\n",
       "dtype: float64"
      ]
     },
     "execution_count": 141,
     "metadata": {},
     "output_type": "execute_result"
    }
   ],
   "source": [
    "pruned = RecursivePutPrune(dailyprices,21)\n",
    "pruned.describe()"
   ]
  },
  {
   "cell_type": "code",
   "execution_count": 142,
   "metadata": {},
   "outputs": [
    {
     "data": {
      "text/plain": [
       "count    10000.0\n",
       "mean         0.0\n",
       "std          0.0\n",
       "min          0.0\n",
       "25%          0.0\n",
       "50%          0.0\n",
       "75%          0.0\n",
       "max          0.0\n",
       "dtype: float64"
      ]
     },
     "execution_count": 142,
     "metadata": {},
     "output_type": "execute_result"
    }
   ],
   "source": [
    "pruned = RecursiveCallPrune(dailyprices,21)\n",
    "pruned.describe()"
   ]
  },
  {
   "cell_type": "code",
   "execution_count": 143,
   "metadata": {},
   "outputs": [
    {
     "data": {
      "text/plain": [
       "Text(0, 0.5, 'Observations')"
      ]
     },
     "execution_count": 143,
     "metadata": {},
     "output_type": "execute_result"
    },
    {
     "data": {
      "image/png": "[encoded data removed]",
      "text/plain": [
       "<Figure size 432x288 with 1 Axes>"
      ]
     },
     "metadata": {
      "needs_background": "light"
     },
     "output_type": "display_data"
    }
   ],
   "source": [
    "binwidth = .1\n",
    "plt.title(\"January 21 2021 Price Density\",loc = 'left')\n",
    "plt.hist(s01212021, bins=np.arange(9, 30 + binwidth, binwidth),color = \"green\")\n",
    "plt.xlabel('Stock Price ($)')\n",
    "plt.ylabel('Observations')"
   ]
  },
  {
   "cell_type": "code",
   "execution_count": 53,
   "metadata": {},
   "outputs": [
    {
     "name": "stdout",
     "output_type": "stream",
     "text": [
      "\u0007\u0007\u0007\n"
     ]
    }
   ],
   "source": [
    "os.system('say -v \"Daniel\" \"The program is complete sir, will there be anything else?\"')\n",
    "print('\\a\\a\\a')"
   ]
  },
  {
   "cell_type": "code",
   "execution_count": 144,
   "metadata": {},
   "outputs": [
    {
     "data": {
      "text/plain": [
       "<matplotlib.legend.Legend at 0x7fcbfb2819d0>"
      ]
     },
     "execution_count": 144,
     "metadata": {},
     "output_type": "execute_result"
    },
    {
     "data": {
      "image/png": "[encoded data removed]",
      "text/plain": [
       "<Figure size 432x288 with 1 Axes>"
      ]
     },
     "metadata": {
      "needs_background": "light"
     },
     "output_type": "display_data"
    }
   ],
   "source": [
    "returns = [x.pct_change().fillna(0) for x in dailyprices]\n",
    "fig, ax = plt.subplots(1, 1)\n",
    "ax.plot([x.std() for x in returns],label = \"Simulated Daily Volatilities\",color = 'purple')\n",
    "ax.legend()"
   ]
  },
  {
   "cell_type": "code",
   "execution_count": 145,
   "metadata": {},
   "outputs": [
    {
     "data": {
      "text/plain": [
       "count    10000.000000\n",
       "mean        20.022073\n",
       "std          1.544878\n",
       "min          8.379908\n",
       "25%         19.674595\n",
       "50%         20.020677\n",
       "75%         20.322300\n",
       "max         61.366914\n",
       "dtype: float64"
      ]
     },
     "execution_count": 145,
     "metadata": {},
     "output_type": "execute_result"
    }
   ],
   "source": [
    "s01212021.describe()"
   ]
  },
  {
   "cell_type": "code",
   "execution_count": 163,
   "metadata": {},
   "outputs": [
    {
     "data": {
      "text/plain": [
       "count    37.000000\n",
       "mean     20.086759\n",
       "std       0.038004\n",
       "min      20.022059\n",
       "25%      20.051870\n",
       "50%      20.091390\n",
       "75%      20.120372\n",
       "max      20.148281\n",
       "dtype: float64"
      ]
     },
     "execution_count": 163,
     "metadata": {},
     "output_type": "execute_result"
    }
   ],
   "source": [
    "pd.Series(means).describe()"
   ]
  },
  {
   "cell_type": "code",
   "execution_count": null,
   "metadata": {},
   "outputs": [],
   "source": []
  }
 ],
 "metadata": {
  "kernelspec": {
   "display_name": "Python 3",
   "language": "python",
   "name": "python3"
  },
  "language_info": {
   "codemirror_mode": {
    "name": "ipython",
    "version": 3
   },
   "file_extension": ".py",
   "mimetype": "text/x-python",
   "name": "python",
   "nbconvert_exporter": "python",
   "pygments_lexer": "ipython3",
   "version": "3.7.4"
  }
 },
 "nbformat": 4,
 "nbformat_minor": 2
}
