{
 "cells": [
  {
   "cell_type": "code",
   "execution_count": 678,
   "metadata": {},
   "outputs": [],
   "source": [
    "import numpy as np\n",
    "import pandas as pd\n",
    "import matplotlib.pyplot as plt\n",
    "import scipy.stats as st\n",
    "import random\n",
    "import math"
   ]
  },
  {
   "cell_type": "code",
   "execution_count": 679,
   "metadata": {},
   "outputs": [],
   "source": [
    "spy = pd.read_csv(\"/Users/austinriis-due/Documents/GitHub/SPY.csv\")"
   ]
  },
  {
   "cell_type": "code",
   "execution_count": 680,
   "metadata": {
    "scrolled": true
   },
   "outputs": [
    {
     "data": {
      "text/html": [
       "<div>\n",
       "<style scoped>\n",
       "    .dataframe tbody tr th:only-of-type {\n",
       "        vertical-align: middle;\n",
       "    }\n",
       "\n",
       "    .dataframe tbody tr th {\n",
       "        vertical-align: top;\n",
       "    }\n",
       "\n",
       "    .dataframe thead th {\n",
       "        text-align: right;\n",
       "    }\n",
       "</style>\n",
       "<table border=\"1\" class=\"dataframe\">\n",
       "  <thead>\n",
       "    <tr style=\"text-align: right;\">\n",
       "      <th></th>\n",
       "      <th>Date</th>\n",
       "      <th>Open</th>\n",
       "      <th>High</th>\n",
       "      <th>Low</th>\n",
       "      <th>Close</th>\n",
       "      <th>Adj Close</th>\n",
       "      <th>Volume</th>\n",
       "    </tr>\n",
       "  </thead>\n",
       "  <tbody>\n",
       "    <tr>\n",
       "      <td>0</td>\n",
       "      <td>2019-10-24</td>\n",
       "      <td>300.910004</td>\n",
       "      <td>301.070007</td>\n",
       "      <td>299.459991</td>\n",
       "      <td>300.369995</td>\n",
       "      <td>294.671631</td>\n",
       "      <td>35453100</td>\n",
       "    </tr>\n",
       "    <tr>\n",
       "      <td>1</td>\n",
       "      <td>2019-10-25</td>\n",
       "      <td>299.739990</td>\n",
       "      <td>302.200012</td>\n",
       "      <td>299.679993</td>\n",
       "      <td>301.600006</td>\n",
       "      <td>295.878296</td>\n",
       "      <td>45205400</td>\n",
       "    </tr>\n",
       "    <tr>\n",
       "      <td>2</td>\n",
       "      <td>2019-10-28</td>\n",
       "      <td>302.940002</td>\n",
       "      <td>303.850006</td>\n",
       "      <td>302.910004</td>\n",
       "      <td>303.299988</td>\n",
       "      <td>297.546021</td>\n",
       "      <td>42147000</td>\n",
       "    </tr>\n",
       "    <tr>\n",
       "      <td>3</td>\n",
       "      <td>2019-10-29</td>\n",
       "      <td>303.000000</td>\n",
       "      <td>304.230011</td>\n",
       "      <td>302.859985</td>\n",
       "      <td>303.209991</td>\n",
       "      <td>297.457733</td>\n",
       "      <td>44284900</td>\n",
       "    </tr>\n",
       "    <tr>\n",
       "      <td>4</td>\n",
       "      <td>2019-10-30</td>\n",
       "      <td>303.429993</td>\n",
       "      <td>304.549988</td>\n",
       "      <td>301.989990</td>\n",
       "      <td>304.140015</td>\n",
       "      <td>298.370117</td>\n",
       "      <td>49643900</td>\n",
       "    </tr>\n",
       "    <tr>\n",
       "      <td>...</td>\n",
       "      <td>...</td>\n",
       "      <td>...</td>\n",
       "      <td>...</td>\n",
       "      <td>...</td>\n",
       "      <td>...</td>\n",
       "      <td>...</td>\n",
       "      <td>...</td>\n",
       "    </tr>\n",
       "    <tr>\n",
       "      <td>248</td>\n",
       "      <td>2020-10-19</td>\n",
       "      <td>348.649994</td>\n",
       "      <td>349.329987</td>\n",
       "      <td>341.040009</td>\n",
       "      <td>342.010010</td>\n",
       "      <td>342.010010</td>\n",
       "      <td>68425600</td>\n",
       "    </tr>\n",
       "    <tr>\n",
       "      <td>249</td>\n",
       "      <td>2020-10-20</td>\n",
       "      <td>343.459991</td>\n",
       "      <td>346.880005</td>\n",
       "      <td>342.640015</td>\n",
       "      <td>343.380005</td>\n",
       "      <td>343.380005</td>\n",
       "      <td>60051900</td>\n",
       "    </tr>\n",
       "    <tr>\n",
       "      <td>250</td>\n",
       "      <td>2020-10-21</td>\n",
       "      <td>343.329987</td>\n",
       "      <td>345.670013</td>\n",
       "      <td>342.399994</td>\n",
       "      <td>342.730011</td>\n",
       "      <td>342.730011</td>\n",
       "      <td>63575000</td>\n",
       "    </tr>\n",
       "    <tr>\n",
       "      <td>251</td>\n",
       "      <td>2020-10-22</td>\n",
       "      <td>342.959991</td>\n",
       "      <td>345.239990</td>\n",
       "      <td>340.649994</td>\n",
       "      <td>344.609985</td>\n",
       "      <td>344.609985</td>\n",
       "      <td>55399300</td>\n",
       "    </tr>\n",
       "    <tr>\n",
       "      <td>252</td>\n",
       "      <td>2020-10-23</td>\n",
       "      <td>345.929993</td>\n",
       "      <td>345.989990</td>\n",
       "      <td>343.130005</td>\n",
       "      <td>345.779999</td>\n",
       "      <td>345.779999</td>\n",
       "      <td>49088100</td>\n",
       "    </tr>\n",
       "  </tbody>\n",
       "</table>\n",
       "<p>253 rows × 7 columns</p>\n",
       "</div>"
      ],
      "text/plain": [
       "           Date        Open        High         Low       Close   Adj Close  \\\n",
       "0    2019-10-24  300.910004  301.070007  299.459991  300.369995  294.671631   \n",
       "1    2019-10-25  299.739990  302.200012  299.679993  301.600006  295.878296   \n",
       "2    2019-10-28  302.940002  303.850006  302.910004  303.299988  297.546021   \n",
       "3    2019-10-29  303.000000  304.230011  302.859985  303.209991  297.457733   \n",
       "4    2019-10-30  303.429993  304.549988  301.989990  304.140015  298.370117   \n",
       "..          ...         ...         ...         ...         ...         ...   \n",
       "248  2020-10-19  348.649994  349.329987  341.040009  342.010010  342.010010   \n",
       "249  2020-10-20  343.459991  346.880005  342.640015  343.380005  343.380005   \n",
       "250  2020-10-21  343.329987  345.670013  342.399994  342.730011  342.730011   \n",
       "251  2020-10-22  342.959991  345.239990  340.649994  344.609985  344.609985   \n",
       "252  2020-10-23  345.929993  345.989990  343.130005  345.779999  345.779999   \n",
       "\n",
       "       Volume  \n",
       "0    35453100  \n",
       "1    45205400  \n",
       "2    42147000  \n",
       "3    44284900  \n",
       "4    49643900  \n",
       "..        ...  \n",
       "248  68425600  \n",
       "249  60051900  \n",
       "250  63575000  \n",
       "251  55399300  \n",
       "252  49088100  \n",
       "\n",
       "[253 rows x 7 columns]"
      ]
     },
     "execution_count": 680,
     "metadata": {},
     "output_type": "execute_result"
    }
   ],
   "source": [
    "spy"
   ]
  },
  {
   "cell_type": "code",
   "execution_count": 731,
   "metadata": {},
   "outputs": [
    {
     "data": {
      "text/plain": [
       "count    253.000000\n",
       "mean       0.000776\n",
       "std        0.020718\n",
       "min       -0.109424\n",
       "25%       -0.005330\n",
       "50%        0.002187\n",
       "75%        0.008318\n",
       "max        0.090603\n",
       "Name: Returns, dtype: float64"
      ]
     },
     "execution_count": 731,
     "metadata": {},
     "output_type": "execute_result"
    }
   ],
   "source": [
    "#adding daily returns column close to close\n",
    "r = [0]\n",
    "i = 1\n",
    "while i < len(spy.Close):\n",
    "    s = (spy.Close[i] / spy.Close[i-1])-1\n",
    "    r.append(s)\n",
    "    i+= 1\n",
    "r[0] = sum(r)/len(r) #no data before row 0; inserted average\n",
    "spy[\"Returns\"] = r\n",
    "spy.Returns.describe()"
   ]
  },
  {
   "cell_type": "code",
   "execution_count": 732,
   "metadata": {},
   "outputs": [
    {
     "data": {
      "text/plain": [
       "count    253.000000\n",
       "mean       0.012396\n",
       "std        0.016582\n",
       "min        0.000003\n",
       "25%        0.002741\n",
       "50%        0.006975\n",
       "75%        0.014442\n",
       "max        0.110199\n",
       "Name: devObs, dtype: float64"
      ]
     },
     "execution_count": 732,
     "metadata": {},
     "output_type": "execute_result"
    }
   ],
   "source": [
    "# daily deviation from mean\n",
    "devObs = abs(spy[\"Returns\"] - spy.Returns.mean())\n",
    "spy[\"devObs\"] = devObs\n",
    "spy.devObs.describe()"
   ]
  },
  {
   "cell_type": "code",
   "execution_count": 733,
   "metadata": {},
   "outputs": [
    {
     "data": {
      "text/plain": [
       "0.022182078587309004"
      ]
     },
     "execution_count": 733,
     "metadata": {},
     "output_type": "execute_result"
    }
   ],
   "source": [
    "# fitting theta parameter\n",
    "t = (((spy.devObs.std())**2))/spy.devObs.mean()\n",
    "t"
   ]
  },
  {
   "cell_type": "code",
   "execution_count": 734,
   "metadata": {},
   "outputs": [
    {
     "data": {
      "text/plain": [
       "0.5588071577185282"
      ]
     },
     "execution_count": 734,
     "metadata": {},
     "output_type": "execute_result"
    }
   ],
   "source": [
    "# fitting alpha parameter\n",
    "a = spy.devObs.mean()/t\n",
    "a"
   ]
  },
  {
   "cell_type": "code",
   "execution_count": 736,
   "metadata": {},
   "outputs": [
    {
     "name": "stdout",
     "output_type": "stream",
     "text": [
      "0.01239550428766317\n"
     ]
    }
   ],
   "source": [
    "print(a*t)"
   ]
  },
  {
   "cell_type": "code",
   "execution_count": 737,
   "metadata": {},
   "outputs": [],
   "source": [
    "# monte carlo sim from gamma distribution\n",
    "def getVol(alpha, theta):\n",
    "    u = random.uniform(0,1)\n",
    "    return(st.gamma.ppf(u,a=alpha,scale = theta))"
   ]
  },
  {
   "cell_type": "code",
   "execution_count": 743,
   "metadata": {},
   "outputs": [
    {
     "data": {
      "text/plain": [
       "0.013386972011104207"
      ]
     },
     "execution_count": 743,
     "metadata": {},
     "output_type": "execute_result"
    }
   ],
   "source": [
    "getVol(a,t)"
   ]
  },
  {
   "cell_type": "code",
   "execution_count": 744,
   "metadata": {},
   "outputs": [],
   "source": [
    "#monte carlo sim for returns and price formula\n",
    "def getPrice(s_0,mu,divs, alpha, theta):\n",
    "    sigma = getVol(alpha, theta)\n",
    "    u = random.uniform(0,1)\n",
    "    Z = st.norm.ppf(u)\n",
    "    return(s_0*math.exp(mu - divs-(.5*(sigma**2))+sigma*Z))"
   ]
  },
  {
   "cell_type": "code",
   "execution_count": 745,
   "metadata": {},
   "outputs": [],
   "source": [
    "#test for 2 day paths based on 10/23 close prices\n",
    "s1 = []\n",
    "s2 = []\n",
    "for i in range(100000):\n",
    "    x = getPrice(s_0 = 344.61,mu = spy[\"Returns\"].mean(),divs = 0,alpha = a,theta = t)\n",
    "    s1.append(x)\n",
    "for v in s1:\n",
    "    x = getPrice(s_0 = v,mu = spy[\"Returns\"].mean(),divs = 0,alpha = a,theta = t)\n",
    "    s2.append(x)"
   ]
  },
  {
   "cell_type": "code",
   "execution_count": 746,
   "metadata": {},
   "outputs": [
    {
     "data": {
      "text/plain": [
       "count    100000.000000\n",
       "mean        344.869867\n",
       "std           7.143082\n",
       "min         201.519749\n",
       "25%         343.738787\n",
       "50%         344.876833\n",
       "75%         345.905692\n",
       "max         540.313132\n",
       "dtype: float64"
      ]
     },
     "execution_count": 746,
     "metadata": {},
     "output_type": "execute_result"
    }
   ],
   "source": [
    "# day one test stats\n",
    "pd.Series(s1).describe()"
   ]
  },
  {
   "cell_type": "code",
   "execution_count": 747,
   "metadata": {},
   "outputs": [
    {
     "data": {
      "text/plain": [
       "count    100000.000000\n",
       "mean        345.115349\n",
       "std          10.105681\n",
       "min         177.019480\n",
       "25%         342.162404\n",
       "50%         345.122796\n",
       "75%         347.914088\n",
       "max         511.788807\n",
       "dtype: float64"
      ]
     },
     "execution_count": 747,
     "metadata": {},
     "output_type": "execute_result"
    }
   ],
   "source": [
    "#day two test stats\n",
    "pd.Series(s2).describe()"
   ]
  },
  {
   "cell_type": "code",
   "execution_count": 748,
   "metadata": {},
   "outputs": [
    {
     "data": {
      "text/plain": [
       "(array([1.0000e+00, 9.0000e+00, 1.5000e+02, 6.0250e+03, 9.3057e+04,\n",
       "        6.9200e+02, 5.4000e+01, 1.0000e+01, 1.0000e+00, 1.0000e+00]),\n",
       " array([201.51974853, 235.39908688, 269.27842523, 303.15776357,\n",
       "        337.03710192, 370.91644027, 404.79577861, 438.67511696,\n",
       "        472.5544553 , 506.43379365, 540.313132  ]),\n",
       " <a list of 10 Patch objects>)"
      ]
     },
     "execution_count": 748,
     "metadata": {},
     "output_type": "execute_result"
    },
    {
     "data": {
      "image/png": "[encoded data removed]",
      "text/plain": [
       "<Figure size 432x288 with 1 Axes>"
      ]
     },
     "metadata": {
      "needs_background": "light"
     },
     "output_type": "display_data"
    }
   ],
   "source": [
    "#day one histogram\n",
    "plt.hist(s1)"
   ]
  },
  {
   "cell_type": "code",
   "execution_count": 749,
   "metadata": {},
   "outputs": [
    {
     "data": {
      "text/plain": [
       "(array([2.0000e+00, 0.0000e+00, 5.8000e+01, 6.2900e+02, 3.9151e+04,\n",
       "        5.9238e+04, 8.3400e+02, 6.0000e+01, 2.4000e+01, 4.0000e+00]),\n",
       " array([177.01948027, 210.49641291, 243.97334554, 277.45027818,\n",
       "        310.92721081, 344.40414345, 377.88107608, 411.35800872,\n",
       "        444.83494135, 478.31187399, 511.78880663]),\n",
       " <a list of 10 Patch objects>)"
      ]
     },
     "execution_count": 749,
     "metadata": {},
     "output_type": "execute_result"
    },
    {
     "data": {
      "image/png": "[encoded data removed]",
      "text/plain": [
       "<Figure size 432x288 with 1 Axes>"
      ]
     },
     "metadata": {
      "needs_background": "light"
     },
     "output_type": "display_data"
    }
   ],
   "source": [
    "#day two histogram\n",
    "plt.hist(s2)"
   ]
  },
  {
   "cell_type": "code",
   "execution_count": null,
   "metadata": {},
   "outputs": [],
   "source": []
  }
 ],
 "metadata": {
  "kernelspec": {
   "display_name": "Python 3",
   "language": "python",
   "name": "python3"
  },
  "language_info": {
   "codemirror_mode": {
    "name": "ipython",
    "version": 3
   },
   "file_extension": ".py",
   "mimetype": "text/x-python",
   "name": "python",
   "nbconvert_exporter": "python",
   "pygments_lexer": "ipython3",
   "version": "3.7.4"
  }
 },
 "nbformat": 4,
 "nbformat_minor": 2
}
