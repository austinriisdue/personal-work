{
 "cells": [
  {
   "cell_type": "code",
   "execution_count": 1,
   "metadata": {},
   "outputs": [],
   "source": [
    "import os\n",
    "import numpy as np\n",
    "import matplotlib.pyplot as plt\n",
    "import imageio\n",
    "import pandas as pd"
   ]
  },
  {
   "cell_type": "code",
   "execution_count": 2,
   "metadata": {},
   "outputs": [
    {
     "name": "stderr",
     "output_type": "stream",
     "text": [
      "/Users/austinriis-due/anaconda3/lib/python3.7/site-packages/pandas/core/indexing.py:1732: SettingWithCopyWarning: \n",
      "A value is trying to be set on a copy of a slice from a DataFrame\n",
      "\n",
      "See the caveats in the documentation: https://pandas.pydata.org/pandas-docs/stable/user_guide/indexing.html#returning-a-view-versus-a-copy\n",
      "  self._setitem_single_block(indexer, value, name)\n"
     ]
    },
    {
     "name": "stdout",
     "output_type": "stream",
     "text": [
      "CPU times: user 2h 37min, sys: 5min 18s, total: 2h 42min 19s\n",
      "Wall time: 2h 38min 14s\n"
     ]
    }
   ],
   "source": [
    "%%time\n",
    "colors = [\"cornflowerblue\",\"tab:red\",\"wheat\",\"forestgreen\",\"black\"]\n",
    "grid = pd.DataFrame()\n",
    "grid[\"x\"] = pd.Series([x/50 for x in range(1000)]*1000).sort_values()\n",
    "grid[\"y\"] = [y/50 for y in range(1000)]*1000\n",
    "TM = pd.DataFrame()\n",
    "TM[\"cornflowerblue\"] =        [0.8,0.05,0.05,0.05,0.05]\n",
    "TM[\"tab:red\"] =               [0.05,0.8,0.05,0.05,0.05]\n",
    "TM[\"wheat\"] =                 [0.05,0.05,0.8,0.05,0.05]\n",
    "TM[\"forestgreen\"] =           [0.05,0.05,0.05,0.8,0.05]\n",
    "TM[\"black\"] =                 [0.05,0.05,0.05,0.05,0.8]\n",
    "c = [\"cornflowerblue\"]\n",
    "for i in range(len(grid)-1):\n",
    "    c.append(np.random.choice(a = colors, size = 1, p = TM[c[len(c) - 1]])[0])\n",
    "grid[\"color\"] = c\n",
    "\n",
    "filenames = []\n",
    "for i in range(300):\n",
    "    \n",
    "    # create file name and append it to a list\n",
    "    filename = f'{i}.png'\n",
    "    filenames.append(filename)\n",
    "    f = plt.figure()\n",
    "    f.set_figwidth(100)\n",
    "    f.set_figheight(50)\n",
    "    plt.scatter(grid[\"x\"],grid[\"y\"], c = grid[\"color\"])\n",
    "    plt.text(x=2.5,y=8.5,s = \"Austin's 21st\", size=500, c = \"white\",fontweight=\"black\")\n",
    "    # save frame\n",
    "    plt.savefig(filename)\n",
    "    plt.close()\n",
    "    grid.y = grid.y - 0.02\n",
    "    grid.y.loc[grid.y == -0.02] = [19.98 for x in range(len(grid.y.loc[grid.y == -0.02]))]\n",
    "    grid.color.loc[grid.y == 19.98] = [np.random.choice(a = colors, size = 1, p = TM[x])[0] for x in grid.color.loc[grid.y==19.96]]\n",
    "    grid.y = round(grid.y,3)\n",
    "    # build gif\n",
    "with imageio.get_writer('birthday.gif', mode='I') as writer:\n",
    "    for filename in filenames:\n",
    "        image = imageio.imread(filename)\n",
    "        writer.append_data(image)\n",
    "        \n",
    "# Remove files\n",
    "for filename in set(filenames):\n",
    "    os.remove(filename)\n",
    "    "
   ]
  },
  {
   "cell_type": "code",
   "execution_count": null,
   "metadata": {},
   "outputs": [],
   "source": []
  },
  {
   "cell_type": "code",
   "execution_count": null,
   "metadata": {},
   "outputs": [],
   "source": []
  }
 ],
 "metadata": {
  "kernelspec": {
   "display_name": "Python 3",
   "language": "python",
   "name": "python3"
  },
  "language_info": {
   "codemirror_mode": {
    "name": "ipython",
    "version": 3
   },
   "file_extension": ".py",
   "mimetype": "text/x-python",
   "name": "python",
   "nbconvert_exporter": "python",
   "pygments_lexer": "ipython3",
   "version": "3.7.4"
  }
 },
 "nbformat": 4,
 "nbformat_minor": 2
}
