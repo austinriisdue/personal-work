{
 "cells": [
  {
   "cell_type": "code",
   "execution_count": 113,
   "metadata": {},
   "outputs": [],
   "source": [
    "from itertools import permutations\n",
    "import numpy as np"
   ]
  },
  {
   "cell_type": "code",
   "execution_count": 117,
   "metadata": {},
   "outputs": [],
   "source": [
    "N = 3\n",
    "S = [x for x in range(1,N+1)]\n",
    "permute_S = permutations(S)\n",
    "parity = {}\n",
    "for p in permute_S:\n",
    "    inversion_ct = 0\n",
    "    for i in range(N):\n",
    "        for j in range(i + 1, N):\n",
    "            if p[i] > p[j]:\n",
    "                inversion_ct += 1\n",
    "    parity[p] = (-1)**inversion_ct"
   ]
  },
  {
   "cell_type": "code",
   "execution_count": 118,
   "metadata": {},
   "outputs": [
    {
     "data": {
      "text/plain": [
       "{(1, 2, 3): 1,\n",
       " (1, 3, 2): -1,\n",
       " (2, 1, 3): -1,\n",
       " (2, 3, 1): 1,\n",
       " (3, 1, 2): 1,\n",
       " (3, 2, 1): -1}"
      ]
     },
     "execution_count": 118,
     "metadata": {},
     "output_type": "execute_result"
    }
   ],
   "source": [
    "parity"
   ]
  },
  {
   "cell_type": "code",
   "execution_count": 119,
   "metadata": {},
   "outputs": [
    {
     "data": {
      "text/plain": [
       "(0, -0.0)"
      ]
     },
     "execution_count": 119,
     "metadata": {},
     "output_type": "execute_result"
    }
   ],
   "source": [
    "A = [[4,-1,1],[-1,1,-2],[-6,9,-19]]\n",
    "det = 0\n",
    "for lcv in parity.keys():\n",
    "    d = parity[lcv]\n",
    "    for row in range(len(A)):\n",
    "        d *= A[row][lcv[row]-1]\n",
    "    det += d\n",
    "det, round(np.linalg.det(A),0)"
   ]
  },
  {
   "cell_type": "code",
   "execution_count": null,
   "metadata": {},
   "outputs": [],
   "source": []
  },
  {
   "cell_type": "code",
   "execution_count": null,
   "metadata": {},
   "outputs": [],
   "source": []
  },
  {
   "cell_type": "code",
   "execution_count": null,
   "metadata": {},
   "outputs": [],
   "source": []
  }
 ],
 "metadata": {
  "kernelspec": {
   "display_name": "Python 3",
   "language": "python",
   "name": "python3"
  },
  "language_info": {
   "codemirror_mode": {
    "name": "ipython",
    "version": 3
   },
   "file_extension": ".py",
   "mimetype": "text/x-python",
   "name": "python",
   "nbconvert_exporter": "python",
   "pygments_lexer": "ipython3",
   "version": "3.7.4"
  }
 },
 "nbformat": 4,
 "nbformat_minor": 2
}
