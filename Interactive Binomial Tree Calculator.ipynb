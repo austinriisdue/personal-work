{
 "cells": [
  {
   "cell_type": "code",
   "execution_count": 1,
   "metadata": {},
   "outputs": [],
   "source": [
    "import dearpygui.dearpygui as dpg\n",
    "import numpy as np\n",
    "def cb(sender,data):\n",
    "    ## Recalculating option value after sliders change\n",
    "    if dpg.get_value(\"Opt\") == \"Call\":\n",
    "        dpg.set_value(\"fv\", (max(dpg.get_value(\"Su\") - dpg.get_value(\"k\"),0)*dpg.get_value('p') + max(dpg.get_value(\"Sd\") - dpg.get_value(\"k\"),0)*(1-dpg.get_value(\"p\")))*np.exp(-dpg.get_value(\"h\")*dpg.get_value(\"r\")))\n",
    "    else:\n",
    "        dpg.set_value(\"fv\", (max(dpg.get_value(\"k\") - dpg.get_value(\"Su\"),0)*dpg.get_value('p') + max(dpg.get_value(\"k\") - dpg.get_value(\"Sd\"),0)*(1-dpg.get_value(\"p\")))*np.exp(-dpg.get_value(\"h\")*dpg.get_value(\"r\")))\n",
    "    \n",
    "    with dpg.window(label=\"Output Window\"):    \n",
    "        with dpg.drawlist(width=300, height=300):\n",
    "            dpg.draw_text((0, 0), dpg.get_value(\"Opt\")+ \" Fair Value is $ \" + str(round(dpg.get_value(\"fv\"),2)), color=(250, 250, 250, 255), size=15)\n",
    "            dpg.draw_line((50, 160), (200, 210), color=(255, 0, 0, 255), thickness=1)\n",
    "            dpg.draw_line((50, 160), (200, 110), color=(255, 0, 0, 255), thickness=1)\n",
    "            dpg.draw_text((0, 160), str(round(dpg.get_value(\"S0\"),2)), color=(250, 250, 250, 255), size=15)\n",
    "            dpg.draw_text((200, 210), str(round(dpg.get_value(\"Sd\"),2)), color=(250, 250, 250, 255), size=15)\n",
    "            dpg.draw_text((200, 110), str(round(dpg.get_value(\"Su\"),2)), color=(250, 250, 250, 255), size=15)\n",
    "\n",
    "with dpg.window(width=300,label=\"Interactive Binomial Tree\"):\n",
    "    ## Setting up sliders, non dividend paying stock\n",
    "    input_txt = dpg.add_input_text(label=\"Option Type (Call or Put)\",default_value=\"Call\",id=\"Opt\")\n",
    "    dpg.add_slider_float(label=\"Continuously Compounded Rate\", default_value=0.05,min_value=0.0,max_value=0.2,id=\"r\")\n",
    "    dpg.add_slider_float(label=\"Initial Stock Price\",default_value=100,min_value=0,max_value=500,id=\"S0\")\n",
    "    dpg.add_slider_float(label=\"Stock Price After Up Motion\",default_value=120,min_value=0,max_value=1000,id=\"Su\")\n",
    "    dpg.add_slider_float(label=\"Stock Price After Down Motion\",default_value=80,min_value=0,max_value=500,id=\"Sd\")\n",
    "    dpg.add_slider_float(label=\"Probability of Up Motion\",default_value=0.75,min_value=0.0,max_value=1.0,id=\"p\")\n",
    "    dpg.add_slider_float(label=\"Period Length\",default_value=1/2,min_value=0.0,max_value=2,id=\"h\")\n",
    "    dpg.add_slider_float(label=\"Strike Price\",default_value=dpg.get_value(\"S0\"),min_value=0.0,max_value=500,id=\"k\")\n",
    "    dpg.add_slider_float(label=\"Fair Value\",default_value=0,id=\"fv\")\n",
    "    \n",
    "    ## Button to calculate fair value\n",
    "    dpg.add_button(label=\"Calculate Fair Value\", callback=cb)\n",
    "\n",
    "dpg.start_dearpygui()"
   ]
  },
  {
   "cell_type": "code",
   "execution_count": null,
   "metadata": {},
   "outputs": [],
   "source": []
  }
 ],
 "metadata": {
  "kernelspec": {
   "display_name": "Python 3",
   "language": "python",
   "name": "python3"
  },
  "language_info": {
   "codemirror_mode": {
    "name": "ipython",
    "version": 3
   },
   "file_extension": ".py",
   "mimetype": "text/x-python",
   "name": "python",
   "nbconvert_exporter": "python",
   "pygments_lexer": "ipython3",
   "version": "3.7.4"
  }
 },
 "nbformat": 4,
 "nbformat_minor": 2
}
