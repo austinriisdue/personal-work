{
 "cells": [
  {
   "cell_type": "code",
   "execution_count": 37,
   "metadata": {},
   "outputs": [],
   "source": [
    "import numpy as np\n",
    "import matplotlib.pyplot as plt\n",
    "import string\n",
    "rupi = open('rupi-kaur-poetry-master/rupis/rupi0.txt')"
   ]
  },
  {
   "cell_type": "code",
   "execution_count": 2,
   "metadata": {},
   "outputs": [
    {
     "name": "stdout",
     "output_type": "stream",
     "text": [
      "initial state distribution\n",
      "8 0.10152591025834719\n",
      "2 0.09507982071813466\n",
      "5 0.09779926474291183\n",
      "9 0.10384247368686106\n",
      "0 0.10298635241980159\n",
      "6 0.09800070504104345\n",
      "7 0.09971294757516241\n",
      "1 0.10348995316513068\n",
      "4 0.10243239159993957\n",
      "3 0.09513018079266758\n"
     ]
    }
   ],
   "source": [
    "transitions = {}\n",
    "row_sums = {}\n",
    "for line in open('machine_learning_examples-master/hmm_class/site_data.csv'):\n",
    "    s, e = line.rstrip().split(',')\n",
    "    transitions[(s,e)] = transitions.get((s,e),0) + 1\n",
    "    row_sums[s] = row_sums.get(s,0) + 1\n",
    "for k, v in transitions.items():\n",
    "    s, e = k\n",
    "    transitions[k] = v / row_sums[s]\n",
    "print(\"initial state distribution\")\n",
    "for k, v in transitions.items():\n",
    "    s, e = k\n",
    "    if s ==\"-1\":\n",
    "        print(e, v)"
   ]
  },
  {
   "cell_type": "code",
   "execution_count": 3,
   "metadata": {},
   "outputs": [],
   "source": [
    "def remove_punctuation(s):\n",
    "    return s.translate(s.maketrans({k:\"\" for k in string.punctuation}))\n",
    "tokens = [t for t in remove_punctuation(line.rstrip().lower()).split()]\n",
    "def add2dict(d,k,v):\n",
    "    if k not in d:\n",
    "        d[k] = []\n",
    "    d[k].append(v)\n",
    "def list2pdict(ts):\n",
    "    d = {}\n",
    "    n = len(ts)\n",
    "    for t in ts:\n",
    "        d[t] = d.get(t, 0) + 1\n",
    "    for t, c in d.items():\n",
    "        d[t] = c / n\n",
    "    return d\n",
    "def sample_word(d):\n",
    "    p0 = np.random.random()\n",
    "    cumulative = 0\n",
    "    for t, p in d.items():\n",
    "        cumulative += p\n",
    "        if p0 < cumulative:\n",
    "            return t\n",
    "    assert(False)"
   ]
  },
  {
   "cell_type": "code",
   "execution_count": 4,
   "metadata": {},
   "outputs": [],
   "source": [
    "initial = {}\n",
    "second_word = {}\n",
    "transitions = {}\n",
    "for line in rupi:#open('machine_learning_examples-master/hmm_class/robert_frost.txt'):\n",
    "    tokens = [t for t in remove_punctuation(line.rstrip().lower()).split()]\n",
    "    T = len(tokens)\n",
    "    for i in range(T):\n",
    "        t = tokens[i]\n",
    "        if i == 0:\n",
    "            initial[t] = initial.get(t, 0) + 1\n",
    "        else:\n",
    "            t_1 = tokens[i - 1]\n",
    "            if i == T - 1:\n",
    "                add2dict(transitions, (t_1,t),'END')\n",
    "            if i == 1:\n",
    "                add2dict(second_word, t_1, t)\n",
    "            else:\n",
    "                t_2 = tokens[i-2]\n",
    "                add2dict(transitions, (t_2, t_1), t)\n",
    "                \n",
    "initial_total = sum(initial.values())\n",
    "for t, c in initial.items():\n",
    "    initial[t] = c / initial_total\n",
    "for t_1,ts in second_word.items():\n",
    "    second_word[t_1] = list2pdict(ts)\n",
    "for k, ts in transitions.items():\n",
    "    transitions[k] = list2pdict(ts)\n",
    "    \n",
    "def generate(N_line):\n",
    "    for i in range(N_line):\n",
    "        sentence = []\n",
    "        w0 = sample_word(initial)\n",
    "        sentence.append(w0)\n",
    "        w1 = sample_word(second_word[w0])\n",
    "        sentence.append(w1)\n",
    "        while 1:\n",
    "            w2 = sample_word(transitions[(w0,w1)])\n",
    "            if w2 == 'END':\n",
    "                break\n",
    "            sentence.append(w2)\n",
    "            w0 = w1\n",
    "            w1 = w2\n",
    "        print(' '.join(sentence))"
   ]
  },
  {
   "cell_type": "code",
   "execution_count": 19,
   "metadata": {},
   "outputs": [
    {
     "name": "stdout",
     "output_type": "stream",
     "text": [
      "the name runs in my blood\n",
      "it always comes back to you\n",
      "with his lips\n",
      "all the wrong people\n"
     ]
    }
   ],
   "source": [
    "generate(4)"
   ]
  },
  {
   "cell_type": "code",
   "execution_count": 26,
   "metadata": {},
   "outputs": [
    {
     "name": "stdout",
     "output_type": "stream",
     "text": [
      "i stand up\n",
      "she was a rose\n",
      "my favorite thing about you is your smell\n",
      "the difference\n"
     ]
    }
   ],
   "source": [
    "generate(4)"
   ]
  },
  {
   "cell_type": "code",
   "execution_count": 36,
   "metadata": {},
   "outputs": [
    {
     "name": "stdout",
     "output_type": "stream",
     "text": [
      "he was the becoming of myself\n",
      "its way back to you\n",
      "and here you are not enough for yourself\n",
      "it is my identity and my god\n"
     ]
    }
   ],
   "source": [
    "generate(4)"
   ]
  },
  {
   "cell_type": "markdown",
   "metadata": {},
   "source": [
    "## Discrete HMM"
   ]
  },
  {
   "cell_type": "code",
   "execution_count": 38,
   "metadata": {},
   "outputs": [],
   "source": [
    "def random_normalized(d1,d2):\n",
    "    x = np.random.random((d1,d2))\n",
    "    return x / x.sum(axis=1,keepdims=True)"
   ]
  },
  {
   "cell_type": "code",
   "execution_count": 85,
   "metadata": {},
   "outputs": [
    {
     "name": "stdout",
     "output_type": "stream",
     "text": [
      "it: 0\n",
      "it: 10\n"
     ]
    },
    {
     "name": "stderr",
     "output_type": "stream",
     "text": [
      "/Users/austinriis-due/anaconda3/lib/python3.7/site-packages/ipykernel_launcher.py:32: RuntimeWarning: overflow encountered in multiply\n",
      "/Users/austinriis-due/anaconda3/lib/python3.7/site-packages/ipykernel_launcher.py:61: RuntimeWarning: invalid value encountered in true_divide\n",
      "/Users/austinriis-due/anaconda3/lib/python3.7/site-packages/ipykernel_launcher.py:62: RuntimeWarning: invalid value encountered in true_divide\n"
     ]
    },
    {
     "name": "stdout",
     "output_type": "stream",
     "text": [
      "it: 20\n",
      "A: [[nan nan]\n",
      " [nan nan]]\n",
      "B: [[nan nan]\n",
      " [nan nan]]\n",
      "pi: [nan, nan]\n"
     ]
    },
    {
     "data": {
      "image/png": "[encoded data removed]",
      "text/plain": [
       "<Figure size 432x288 with 1 Axes>"
      ]
     },
     "metadata": {
      "needs_background": "light"
     },
     "output_type": "display_data"
    },
    {
     "name": "stdout",
     "output_type": "stream",
     "text": [
      "nan\n",
      "-1059.7229160265022\n",
      "[0 1 0 1 0 1 0 1 0 1 0 1 0 1 0 1 0 1 0 1 0 1 0 1 0 1 0 1 0 1]\n"
     ]
    }
   ],
   "source": [
    "class HMM:\n",
    "    def __init__(self,M):\n",
    "        self.M = M\n",
    "    def fit(self,X, max_iter = 30):\n",
    "        np.random.seed(123)\n",
    "        V = max(max(x) for x in X) + 1\n",
    "        N = len(X)\n",
    "        self.pi = np.ones(self.M) / self.M\n",
    "        self.A = random_normalized(self.M,self.M)\n",
    "        self.B = random_normalized(self.M, V)\n",
    "        \n",
    "        costs = []\n",
    "        for it in range(max_iter):\n",
    "            if it % 10 == 0:\n",
    "                print(\"it:\", it)\n",
    "            alphas = []\n",
    "            betas = []\n",
    "            P = np.zeros(N)\n",
    "            for n in range(N):\n",
    "                x = X[n]\n",
    "                T = len(x)\n",
    "                alpha = np.zeros((T,self.M))\n",
    "                alpha[0] = self.pi * self.B[:,x[0]]\n",
    "                for t in range(1,T):\n",
    "                    alpha[t] = alpha[t-1].dot(self.A)*self.B[:,x[t]]\n",
    "                P[n] = alpha[-1].sum()\n",
    "                alphas.append(alpha)\n",
    "                \n",
    "                beta = np.zeros((T,self.M))\n",
    "                beta[-1] = 1\n",
    "                for t in range(T-2,-1,-1):\n",
    "                    beta[t] = self.A.dot(self.B[:,x[t+1]])*beta[t+1]\n",
    "                betas.append(beta)\n",
    "            cost = np.sum(np.log(P))\n",
    "            costs.append(cost)\n",
    "            \n",
    "            self.pi = [np.sum(alphas[n][0] * betas[n][0]) / P[n] for n in range(V)]\n",
    "            den1 = np.zeros((self.M, 1))\n",
    "            den2 = np.zeros((self.M, 1))\n",
    "            a_num = 0\n",
    "            b_num = 0\n",
    "            for n in range(N):\n",
    "                x = X[n]\n",
    "                T = len(x)\n",
    "                \n",
    "                den1 += (alphas[n][:-1]*betas[n][:-1]).sum(axis=0,keepdims=True).T / P[n]\n",
    "                den2 += (alphas[n]*betas[n]).sum(axis=0,keepdims=True).T / P[n]\n",
    "                a_num_n = np.zeros((self.M, self.M))\n",
    "                for i in range(self.M):\n",
    "                    for j in range(self.M):\n",
    "                        for t in range(T-1):\n",
    "                            a_num_n[i,j] += alphas[n][t,i] * self.A[i,j] *self.B[j, x[t+1]]*betas[n][t+1,j]\n",
    "                a_num += a_num_n / P[n]\n",
    "                b_num_n = np.zeros((self.M,V))\n",
    "                for i in range(self.M):\n",
    "                    for j in range(V):\n",
    "                        for t in range(T):\n",
    "                            if x[t] == j:\n",
    "                                b_num_n[i,j] += alphas[n][t,i] * betas[n][t,i]\n",
    "                b_num += b_num_n / P[n]\n",
    "            self.A = a_num / den1\n",
    "            self.B = b_num / den2\n",
    "        print(\"A:\",self.A)\n",
    "        print(\"B:\",self.B)\n",
    "        print(\"pi:\",self.pi)\n",
    "        plt.plot(costs)\n",
    "        plt.show()\n",
    "    def like(self,x):\n",
    "        T = len(x)\n",
    "        alpha = np.zeros((T,self.M))\n",
    "        alpha[0] = self.pi*self.B[:,x[0]]\n",
    "        for t in range(1,T):\n",
    "            alpha[t] = alpha[t-1].dot(self.A)*self.B[:, x[t]]\n",
    "        return alpha[-1].sum()\n",
    "    def like_multi(self,X):\n",
    "        return np.array([self.like(x) for x in X])\n",
    "    def llmulti(self,X):\n",
    "        return np.log(self.like_multi(X))\n",
    "    def get_state_sequence(self,x):\n",
    "        T = len(x)\n",
    "        delta = np.zeros((T,self.M))\n",
    "        psi = np.zeros((T,self.M))\n",
    "        delta[0] = self.pi*self.B[:,x[0]]\n",
    "        for t in range(1,T):\n",
    "            for j in range(self.M):\n",
    "                delta[t,j] = np.max(delta[t-1]*self.A[:,j])*self.B[j,x[t]]\n",
    "                psi[t,j] = np.argmax(delta[t-1]*self.A[:,j])\n",
    "        states = np.zeros(T,dtype=np.int32)\n",
    "        states[T-1] = np.argmax(delta[T-1])\n",
    "        for t in range(T-2,-1,-1):\n",
    "            states[t] = psi[t+1,states[t+1]]\n",
    "        return states\n",
    "#def fit_coin():\n",
    "X = []\n",
    "for line in open('machine_learning_examples-master/hmm_class/coin_data.txt'):\n",
    "    x = [1 if e == 'H' else 0 for e in line.rstrip()]\n",
    "    X.append(x)\n",
    "hmm = HMM(2)\n",
    "hmm.fit(X)\n",
    "L = hmm.llmulti(X).sum()\n",
    "print(L)\n",
    "hmm.pi = np.array([0.5,0.5])\n",
    "hmm.A = np.array([[0.1,0.9],[0.8,0.2]])\n",
    "hmm.B = np.array([[0.6,0.4],[0.3,0.7]])\n",
    "L = hmm.llmulti(X).sum()\n",
    "print(L)\n",
    "print(hmm.get_state_sequence(X[0]))"
   ]
  },
  {
   "cell_type": "code",
   "execution_count": null,
   "metadata": {},
   "outputs": [],
   "source": []
  },
  {
   "cell_type": "code",
   "execution_count": null,
   "metadata": {},
   "outputs": [],
   "source": []
  },
  {
   "cell_type": "code",
   "execution_count": null,
   "metadata": {},
   "outputs": [],
   "source": []
  }
 ],
 "metadata": {
  "kernelspec": {
   "display_name": "Python 3",
   "language": "python",
   "name": "python3"
  },
  "language_info": {
   "codemirror_mode": {
    "name": "ipython",
    "version": 3
   },
   "file_extension": ".py",
   "mimetype": "text/x-python",
   "name": "python",
   "nbconvert_exporter": "python",
   "pygments_lexer": "ipython3",
   "version": "3.7.4"
  }
 },
 "nbformat": 4,
 "nbformat_minor": 2
}
