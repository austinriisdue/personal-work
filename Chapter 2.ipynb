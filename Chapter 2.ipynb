{
 "cells": [
  {
   "cell_type": "code",
   "execution_count": 1,
   "metadata": {},
   "outputs": [],
   "source": [
    "import numpy as np\n",
    "import matplotlib.pyplot as plt\n",
    "import seaborn as sns\n",
    "import scipy.stats as st"
   ]
  },
  {
   "cell_type": "code",
   "execution_count": null,
   "metadata": {},
   "outputs": [],
   "source": [
    "def fact(N):\n",
    "    if N == 0:\n",
    "        return 1\n",
    "    else:\n",
    "        return N*fact(N-1)\n",
    "def nCk(n,k):\n",
    "    return int(fact(n) / (fact(k)*fact(n - k)))\n",
    "def prod(array):\n",
    "    if len(array) == 1:\n",
    "        return array[0]\n",
    "    else:\n",
    "        return array[0]*prod(array[1:])"
   ]
  },
  {
   "cell_type": "code",
   "execution_count": null,
   "metadata": {},
   "outputs": [],
   "source": []
  },
  {
   "cell_type": "markdown",
   "metadata": {},
   "source": [
    "### 2.11"
   ]
  },
  {
   "cell_type": "code",
   "execution_count": null,
   "metadata": {},
   "outputs": [],
   "source": [
    "%%time\n",
    "U =[]\n",
    "a = 0.5\n",
    "for x in range(10**6):\n",
    "    u = np.random.uniform()\n",
    "    while u > a:\n",
    "        u = np.random.uniform()\n",
    "    U.append(u)"
   ]
  },
  {
   "cell_type": "code",
   "execution_count": null,
   "metadata": {},
   "outputs": [],
   "source": [
    "%%time\n",
    "V=[]\n",
    "a=0.5\n",
    "for x in range(10**6):\n",
    "    v=a*np.random.uniform()\n",
    "    V.append(v)"
   ]
  },
  {
   "cell_type": "code",
   "execution_count": null,
   "metadata": {},
   "outputs": [],
   "source": [
    "n = 25\n",
    "p = 0.2\n",
    "k = [x for x in range(n+1)]\n",
    "pmf = [round(nCk(25,x)*(p**x)*((1-p)**(n-x)),8) for x in range(n+1)]\n",
    "cmf = [sum(pmf[:i+1]) for i in range(n+1)]\n",
    "binom = {x:y for (x,y) in [(k[i],cmf[i]) for i in range(len(k))]}\n",
    "binom"
   ]
  },
  {
   "cell_type": "code",
   "execution_count": null,
   "metadata": {},
   "outputs": [],
   "source": [
    "%%time\n",
    "B1 = []\n",
    "for x in range(10**6):\n",
    "    u = np.random.uniform()\n",
    "    for i in range(n+1):\n",
    "        if binom[i] > u:\n",
    "            B1.append(i-1)\n",
    "            break"
   ]
  },
  {
   "cell_type": "code",
   "execution_count": null,
   "metadata": {},
   "outputs": [],
   "source": [
    "%%time\n",
    "B2 = []\n",
    "for x in range(10**6):\n",
    "    B2.append(np.random.binomial(n=n,p=p))"
   ]
  },
  {
   "cell_type": "code",
   "execution_count": null,
   "metadata": {},
   "outputs": [],
   "source": [
    "plt.hist(B1,bins=50,alpha=0.7)\n",
    "plt.hist(B2,bins=50,alpha=0.7)\n",
    "plt.show()"
   ]
  },
  {
   "cell_type": "markdown",
   "metadata": {},
   "source": [
    "### 2.12"
   ]
  },
  {
   "cell_type": "code",
   "execution_count": null,
   "metadata": {},
   "outputs": [],
   "source": [
    "alpha = 3\n",
    "theta = 5\n",
    "U = []\n",
    "V = []\n",
    "for run in range(10**5):\n",
    "    u = 0\n",
    "    for x in range(alpha):\n",
    "        u += np.random.exponential(theta)\n",
    "    V.append(np.random.gamma(shape=alpha,scale=theta))\n",
    "    U.append(u)\n",
    "plt.hist(U,bins=80,alpha=0.7,density=True)\n",
    "plt.hist(V,bins=80,alpha=0.7,density=True)\n",
    "plt.show()"
   ]
  },
  {
   "cell_type": "code",
   "execution_count": null,
   "metadata": {},
   "outputs": [],
   "source": [
    "a = 2\n",
    "b = 3\n",
    "U = []\n",
    "V = []\n",
    "for run in range(10**5):\n",
    "    ua = 0\n",
    "    ub = 0\n",
    "    for x in range(a):\n",
    "        ua += np.random.exponential(1)\n",
    "    for x in range(b):\n",
    "        ub += np.random.exponential(1)\n",
    "    V.append(np.random.beta(a,b))\n",
    "    U.append(ua / (ua + ub))\n",
    "plt.hist(U,bins=80,alpha=0.7,density=True)\n",
    "plt.hist(V,bins=80,alpha=0.7,density=True)\n",
    "plt.show()"
   ]
  },
  {
   "cell_type": "markdown",
   "metadata": {},
   "source": [
    "### 2.13"
   ]
  },
  {
   "cell_type": "code",
   "execution_count": null,
   "metadata": {},
   "outputs": [],
   "source": [
    "alpha = 2\n",
    "pareto = []\n",
    "for x in range(10**6):\n",
    "    pareto.append(np.random.pareto(2))\n",
    "plt.hist([x for x in pareto if x < 5],bins=70,alpha=0.7,density=True)\n",
    "plt.show()"
   ]
  },
  {
   "cell_type": "markdown",
   "metadata": {},
   "source": [
    "### 2.14"
   ]
  },
  {
   "cell_type": "code",
   "execution_count": null,
   "metadata": {},
   "outputs": [],
   "source": [
    "a = []\n",
    "b = []\n",
    "c = []\n",
    "for x in range(1000):\n",
    "    a.append(np.random.negative_binomial(10,0.01))\n",
    "    b.append(np.random.negative_binomial(10,0.1))\n",
    "    c.append(np.random.negative_binomial(10,0.5))\n",
    "plt.figure(0)\n",
    "plt.hist(a,bins=70,alpha=0.7,density=True)\n",
    "plt.figure(1)\n",
    "plt.hist(b,bins=70,alpha=0.7,density=True)\n",
    "plt.figure(2)\n",
    "plt.hist(c,bins=70,alpha=0.7,density=True)\n",
    "plt.show()"
   ]
  },
  {
   "cell_type": "code",
   "execution_count": null,
   "metadata": {},
   "outputs": [],
   "source": [
    "a = []\n",
    "b = []\n",
    "c = []\n",
    "for x in range(1000):\n",
    "    a.append(np.random.logseries(0.001))\n",
    "    b.append(np.random.logseries(0.01))\n",
    "    c.append(np.random.logseries(0.9))\n",
    "plt.figure(0)\n",
    "plt.hist(a,bins=70,alpha=0.7,density=True)\n",
    "plt.figure(1)\n",
    "plt.hist(b,bins=70,alpha=0.7,density=True)\n",
    "plt.figure(2)\n",
    "plt.hist(c,bins=70,alpha=0.7,density=True)\n",
    "plt.show()"
   ]
  },
  {
   "cell_type": "markdown",
   "metadata": {},
   "source": [
    "## 2.15"
   ]
  },
  {
   "cell_type": "code",
   "execution_count": null,
   "metadata": {},
   "outputs": [],
   "source": [
    "L = 0.25\n",
    "P = []\n",
    "for x in range(10**6):\n",
    "    S = 0\n",
    "    K = 0\n",
    "    while S < 1:\n",
    "        S += np.random.exponential(L)\n",
    "        K += 1\n",
    "    P.append(K)"
   ]
  },
  {
   "cell_type": "code",
   "execution_count": null,
   "metadata": {},
   "outputs": [],
   "source": [
    "plt.hist(P,bins = 50, density=True)\n",
    "plt.show()"
   ]
  },
  {
   "cell_type": "code",
   "execution_count": null,
   "metadata": {},
   "outputs": [],
   "source": [
    "def f(x):\n",
    "    return np.exp(-0.5*(x**2))*((np.sin(6*x)**2) + (3 * np.cos(x) **2) + (np.sin(4*x)**2) + 1) / 10\n",
    "def normal(x):\n",
    "    return (1/(np.sqrt(2*np.pi)))*np.exp(-0.5*(x**2))\n",
    "F = [f(x/10000) for x in range(-40000, 40000)]\n",
    "plt.plot([x/10000 for x in range(-40000, 40000)],F)\n",
    "plt.show()"
   ]
  },
  {
   "cell_type": "code",
   "execution_count": null,
   "metadata": {},
   "outputs": [],
   "source": [
    "n = [normal(x / 10000) for x in range(-40000,40000)]\n",
    "plt.plot([x/10000 for x in range(-40000, 40000)],n)\n",
    "plt.show()"
   ]
  },
  {
   "cell_type": "code",
   "execution_count": null,
   "metadata": {},
   "outputs": [],
   "source": [
    "M = max([F[i] / n[i] for i in range(len(n))])\n",
    "M"
   ]
  },
  {
   "cell_type": "code",
   "execution_count": null,
   "metadata": {},
   "outputs": [],
   "source": [
    "weird_density_samples = []\n",
    "for trial in range(100000):\n",
    "    Y = np.random.normal()\n",
    "    u = np.random.uniform()\n",
    "    if u < f(Y) / (normal(Y) * M):\n",
    "        weird_density_samples.append(Y)\n",
    "def f(x):\n",
    "    return np.exp(-0.5*(x**2))*((np.sin(6*x)**2) + (3 * np.cos(x) **2) + (np.sin(4*x)**2) + 1) / 10\n",
    "def normal(x):\n",
    "    return (1/(np.sqrt(2*np.pi)))*np.exp(-0.5*(x**2))\n",
    "F = [f(x/10000) for x in range(-40000, 40000)]\n",
    "plt.plot([x/10000 for x in range(-40000, 40000)],F)\n",
    "plt.hist(weird_density_samples,bins = 100, density = True)\n",
    "plt.show()"
   ]
  },
  {
   "cell_type": "markdown",
   "metadata": {},
   "source": [
    "## 2.23"
   ]
  },
  {
   "cell_type": "code",
   "execution_count": null,
   "metadata": {},
   "outputs": [],
   "source": [
    "def f(x,th):\n",
    "    return (1/(2*np.pi**2)) * (1/(1+th**2))*prod([np.exp(-((y-th)**2)/2) for y in x])"
   ]
  },
  {
   "cell_type": "code",
   "execution_count": null,
   "metadata": {},
   "outputs": [],
   "source": [
    "N = 1\n",
    "norm = [st.norm.pdf(st.norm.rvs(3,1)) for x in range(N)]\n",
    "L = prod(norm)\n",
    "th = 3\n",
    "f(norm,th) / (prod([st.cauchy.pdf(x) for x in norm]) * L)"
   ]
  },
  {
   "cell_type": "code",
   "execution_count": null,
   "metadata": {},
   "outputs": [],
   "source": [
    "plt.hist(accept, bins=80)\n",
    "plt.show()"
   ]
  },
  {
   "cell_type": "code",
   "execution_count": null,
   "metadata": {},
   "outputs": [],
   "source": []
  },
  {
   "cell_type": "code",
   "execution_count": 10,
   "metadata": {},
   "outputs": [],
   "source": [
    "T = 10**4\n",
    "nu = 7\n",
    "t = []\n",
    "for n in range(T):\n",
    "    y = st.chi2.rvs(nu)\n",
    "    t.append(st.norm.rvs(0,scale = np.sqrt(nu/y)))"
   ]
  },
  {
   "cell_type": "code",
   "execution_count": 11,
   "metadata": {},
   "outputs": [
    {
     "data": {
      "image/png": "[encoded data removed]",
      "text/plain": [
       "<Figure size 432x288 with 1 Axes>"
      ]
     },
     "metadata": {
      "needs_background": "light"
     },
     "output_type": "display_data"
    }
   ],
   "source": [
    "real_t = [st.t.ppf(x / (T+1), nu) for x in range(1,T+1)]\n",
    "plt.scatter(sorted(real_t),sorted(t),alpha=0.05, c = \"limegreen\")\n",
    "a = [x / 10000 for x in range(-40000,40000)]\n",
    "plt.plot(a,a,c  = \"chocolate\")\n",
    "plt.xlim(-4,4)\n",
    "plt.ylim(-4,4)\n",
    "plt.show()"
   ]
  },
  {
   "cell_type": "code",
   "execution_count": 12,
   "metadata": {},
   "outputs": [
    {
     "data": {
      "image/png": "[encoded data removed]",
      "text/plain": [
       "<Figure size 432x288 with 1 Axes>"
      ]
     },
     "metadata": {
      "needs_background": "light"
     },
     "output_type": "display_data"
    }
   ],
   "source": [
    "plt.hist(real_t,bins=80,density=True,alpha = 0.5)\n",
    "plt.hist(t, bins=80,density=True, alpha = 0.5)\n",
    "plt.xlim(-5,5)\n",
    "plt.show()"
   ]
  },
  {
   "cell_type": "code",
   "execution_count": 13,
   "metadata": {},
   "outputs": [
    {
     "name": "stdout",
     "output_type": "stream",
     "text": [
      "p-val:  0.9718445725686321\n"
     ]
    }
   ],
   "source": [
    "print(\"p-val: \", st.kstest(rvs = t,cdf = \"t\",args = [nu])[1])"
   ]
  },
  {
   "cell_type": "code",
   "execution_count": 15,
   "metadata": {},
   "outputs": [
    {
     "name": "stdout",
     "output_type": "stream",
     "text": [
      "p-val, nu:  0.5883889267280601 , 2\n",
      "p-val, nu:  0.698453119935978 , 3\n",
      "p-val, nu:  0.9452524395589974 , 4\n",
      "p-val, nu:  0.6251430716263531 , 5\n",
      "p-val, nu:  0.6728573629222725 , 6\n",
      "p-val, nu:  0.9946578607459684 , 7\n",
      "p-val, nu:  0.8159755832285664 , 8\n",
      "p-val, nu:  0.16689707902236667 , 9\n",
      "p-val, nu:  0.04084237836543922 , 10\n",
      "p-val, nu:  0.7673332000003 , 11\n",
      "p-val, nu:  0.24385066074839162 , 12\n",
      "p-val, nu:  0.512958543401731 , 13\n",
      "p-val, nu:  0.9184531224560959 , 14\n",
      "p-val, nu:  0.7813709409366931 , 15\n",
      "p-val, nu:  0.3431959967183434 , 16\n",
      "p-val, nu:  0.6181740475829773 , 17\n",
      "p-val, nu:  0.772709396738069 , 18\n",
      "p-val, nu:  0.4779179201772437 , 19\n",
      "p-val, nu:  0.8748345024558206 , 20\n",
      "p-val, nu:  0.7458802056708165 , 21\n",
      "p-val, nu:  0.5586457751567804 , 22\n",
      "p-val, nu:  0.1474230146579886 , 23\n",
      "p-val, nu:  0.2524113315246009 , 24\n",
      "p-val, nu:  0.07567252878299179 , 25\n",
      "p-val, nu:  0.23032676704156455 , 26\n",
      "p-val, nu:  0.5288687480232315 , 27\n",
      "p-val, nu:  0.44076327494899015 , 28\n",
      "p-val, nu:  0.5324640087697075 , 29\n",
      "p-val, nu:  0.6547263239028708 , 30\n",
      "p-val, nu:  0.36011952267808434 , 31\n",
      "p-val, nu:  0.7057385211657514 , 32\n",
      "p-val, nu:  0.9996423261235478 , 33\n",
      "p-val, nu:  0.027770634455183307 , 34\n",
      "p-val, nu:  0.4231705432210796 , 35\n",
      "p-val, nu:  0.9046496803671285 , 36\n",
      "p-val, nu:  0.712314343571828 , 37\n",
      "p-val, nu:  0.05174986025333042 , 38\n",
      "p-val, nu:  0.4012903580145691 , 39\n",
      "p-val, nu:  0.9215318854463604 , 40\n",
      "p-val, nu:  0.7352279320995746 , 41\n",
      "p-val, nu:  0.09557611008741528 , 42\n",
      "p-val, nu:  0.13536668434626123 , 43\n",
      "p-val, nu:  0.8370311521947316 , 44\n",
      "p-val, nu:  0.9818901409235551 , 45\n",
      "p-val, nu:  0.6441763421093468 , 46\n",
      "p-val, nu:  0.6272027036896357 , 47\n",
      "p-val, nu:  0.6000997338667432 , 48\n",
      "p-val, nu:  0.9715592620049684 , 49\n"
     ]
    }
   ],
   "source": [
    "for nu in range(2,50):\n",
    "    T = 10**4\n",
    "    t = []\n",
    "    for n in range(T):\n",
    "        y = st.chi2.rvs(nu)\n",
    "        t.append(st.norm.rvs(0,scale = np.sqrt(nu/y)))\n",
    "    real_t = [st.t.ppf(x / (T+1), nu) for x in range(1,T+1)]\n",
    "    p = st.kstest(rvs = t,cdf = \"t\",args = [nu])[1]\n",
    "    print(\"p-val, nu: \", p,\",\", nu)"
   ]
  },
  {
   "cell_type": "code",
   "execution_count": null,
   "metadata": {},
   "outputs": [],
   "source": []
  },
  {
   "cell_type": "code",
   "execution_count": null,
   "metadata": {},
   "outputs": [],
   "source": []
  }
 ],
 "metadata": {
  "kernelspec": {
   "display_name": "Python 3",
   "language": "python",
   "name": "python3"
  },
  "language_info": {
   "codemirror_mode": {
    "name": "ipython",
    "version": 3
   },
   "file_extension": ".py",
   "mimetype": "text/x-python",
   "name": "python",
   "nbconvert_exporter": "python",
   "pygments_lexer": "ipython3",
   "version": "3.7.4"
  }
 },
 "nbformat": 4,
 "nbformat_minor": 2
}
