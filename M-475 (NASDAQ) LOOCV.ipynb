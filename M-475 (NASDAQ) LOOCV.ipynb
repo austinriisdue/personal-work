{
 "cells": [
  {
   "cell_type": "code",
   "execution_count": 1,
   "metadata": {},
   "outputs": [],
   "source": [
    "import pandas as pd\n",
    "import numpy as np\n",
    "import scipy.stats as st\n",
    "import matplotlib.pyplot as plt\n",
    "from sklearn import neighbors\n",
    "from sklearn.metrics import hamming_loss\n",
    "import seaborn as sns"
   ]
  },
  {
   "cell_type": "code",
   "execution_count": 2,
   "metadata": {},
   "outputs": [],
   "source": [
    "def scaleMatrix(matrix):\n",
    "    return matrix.div(matrix.sum(axis=1),axis=0)"
   ]
  },
  {
   "cell_type": "code",
   "execution_count": 3,
   "metadata": {},
   "outputs": [],
   "source": [
    "def norm(series):\n",
    "    b = max(series)\n",
    "    a = min(series)\n",
    "    return [(x - a) / (b - a) for x in series]"
   ]
  },
  {
   "cell_type": "code",
   "execution_count": 4,
   "metadata": {},
   "outputs": [],
   "source": [
    "def npmc(init_state, matrix, original_states, init_state_col):\n",
    "    matrix = scaleMatrix(matrix)\n",
    "    probs = {k:list(matrix.iloc[original_states.index(k)]) for k in original_states}\n",
    "    NewState = []\n",
    "    for x in range(len(init_state)):\n",
    "        NewState.append(np.random.choice(a = matrix.columns, p = probs[init_state[init_state_col][x]],size=1)[0])\n",
    "    NextStep = pd.DataFrame()\n",
    "    NextStep[\"Original State\"] = init_state[init_state_col]\n",
    "    NextStep[\"New State\"] = NewState\n",
    "    return NextStep"
   ]
  },
  {
   "cell_type": "code",
   "execution_count": 5,
   "metadata": {},
   "outputs": [],
   "source": [
    "def chain(init_state, matrix, original_states, init_state_col,n):\n",
    "    init_state = init_state.copy()\n",
    "    out = pd.DataFrame()\n",
    "    out[0] = init_state[init_state_col]\n",
    "    for i in range(1,n+1):\n",
    "        out[i] = npmc(out,matrix,original_states,i-1)[\"New State\"]\n",
    "    return out"
   ]
  },
  {
   "cell_type": "code",
   "execution_count": 6,
   "metadata": {},
   "outputs": [],
   "source": [
    "def proj(inp,X1,X2,n,start_state_col):\n",
    "    sts = []\n",
    "    inp.reset_index(drop = True,inplace = True)\n",
    "    curr_st = inp[start_state_col].iloc[0]\n",
    "    for step in range(n):\n",
    "        sts.append(curr_st)\n",
    "        if curr_st == -1:\n",
    "            up_prob = npdfd[\"t1\"].iloc[downknn.kneighbors([[inp[X1][step],inp[X2][step]]],n_neighbors,False)[0]].value_counts()[1] / n_neighbors\n",
    "            down_prob = npdfd[\"t1\"].iloc[downknn.kneighbors([[inp[X1][step],inp[X2][step]]],n_neighbors,False)[0]].value_counts()[0] / n_neighbors\n",
    "            curr_st = np.random.choice([0,1],1,p = [down_prob, up_prob])[0]\n",
    "        else:\n",
    "            up_prob = npdfu[\"t1\"].iloc[upknn.kneighbors([[inp[X1][step],inp[X2][step]]],n_neighbors,False)[0]].value_counts()[1] / n_neighbors\n",
    "            down_prob = npdfu[\"t1\"].iloc[upknn.kneighbors([[inp[X1][step],inp[X2][step]]],n_neighbors,False)[0]].value_counts()[0] / n_neighbors\n",
    "            curr_st = np.random.choice([0,1],1,p = [down_prob, up_prob])[0]\n",
    "    return sts"
   ]
  },
  {
   "cell_type": "code",
   "execution_count": 7,
   "metadata": {},
   "outputs": [
    {
     "data": {
      "text/plain": [
       "91"
      ]
     },
     "execution_count": 7,
     "metadata": {},
     "output_type": "execute_result"
    }
   ],
   "source": [
    "tick = pd.read_csv(\"NASDAQ_Ticks.csv\")\n",
    "all_data = {}\n",
    "all_tm = {}\n",
    "returns = {}\n",
    "for x in tick[\"Ticker\"]:\n",
    "    \n",
    "    df = pd.DataFrame()\n",
    "    t0 = pd.read_csv(x+\".csv\")[\"Adj Close\"]\n",
    "    returns[x] = t0.pct_change().iloc[::3][1:]\n",
    "    df[\"MMYYYY\"] = [x[5:7] + x[:4] for x in pd.read_csv(x+\".csv\")[\"Date\"][1:]]\n",
    "    df.reset_index(drop = True,inplace = True)\n",
    "    df[\"t0\"] = np.where(t0.pct_change()[1:] > 0, 1, 0)\n",
    "    df.dropna(inplace=True)\n",
    "    df.reset_index(drop = True,inplace = True)\n",
    "    \n",
    "    df[\"t1\"] = df[\"t0\"].shift(-3)\n",
    "    df.dropna(inplace=True)\n",
    "    df.reset_index(drop = True,inplace = True)\n",
    "    \n",
    "    states = [\"Up\",\"Down\"]\n",
    "    TM = pd.DataFrame(index = [\"Up\",\"Down\"])\n",
    "    \n",
    "    tm = {\"UU\":0,\"UD\":0,\"DU\":0,\"DD\":0}\n",
    "    \n",
    "    for i in range(2,len(df)):\n",
    "        \n",
    "        if df[\"t0\"][i] == 1 and df[\"t0\"][i-1] == 1:\n",
    "            tm[\"UU\"] += 1\n",
    "        elif df[\"t0\"][i] == 0 and df[\"t0\"][i-1] == 1:\n",
    "            tm[\"UD\"] += 1\n",
    "        elif df[\"t0\"][i] == 1 and df[\"t0\"][i-1] == 0:\n",
    "            tm[\"DU\"] += 1\n",
    "        else:\n",
    "            tm[\"DD\"] += 1\n",
    "            \n",
    "    TM[\"Up\"] = [tm[\"UU\"],tm[\"UD\"]]\n",
    "    TM[\"Down\"] = [tm[\"DU\"],tm[\"DD\"]]\n",
    "    \n",
    "    findf = pd.read_csv(x + \"_quarterly_valuation_measures.csv\",header=None).T\n",
    "    findf.columns = findf.iloc[0]\n",
    "    findf.drop([0,1],inplace=True)\n",
    "    \n",
    "    findf1 = pd.DataFrame()\n",
    "    findf1[\"MMYYYY\"] = [y[:2]+ y[6:10] for y in findf[\"name\"].str.replace('/', '-')]\n",
    "    try:\n",
    "        findf1[\"PeRatio\"] = np.log(findf[\"PeRatio\"].str.replace(',', '').astype(float))\n",
    "    except:\n",
    "        findf1[\"PeRatio\"] = np.log(findf[\"PegRatio\"].str.replace(',', '').astype(float))\n",
    "    findf1['MarketCap'] = np.log(findf['MarketCap'].str.replace(',', '').astype(float))\n",
    "    findf1.interpolate(method='linear',inplace=True)\n",
    "    \n",
    "    findf1.dropna(inplace=True)\n",
    "    findf1.reset_index(drop = True,inplace = True)\n",
    "    \n",
    "    alldf = df.merge(right=findf1, on = [\"MMYYYY\"])\n",
    "    if len(alldf) > 20:\n",
    "        all_tm[x] = scaleMatrix(TM)\n",
    "        all_data[x] = alldf\n",
    "len(all_data)"
   ]
  },
  {
   "cell_type": "code",
   "execution_count": 8,
   "metadata": {},
   "outputs": [],
   "source": [
    "npdf = pd.DataFrame()\n",
    "tk = []\n",
    "my = []\n",
    "t0 = []\n",
    "t1 = []\n",
    "ps = []\n",
    "mc = []\n",
    "for x in all_data.keys():\n",
    "    tk.extend([x for y in range(len(all_data[x]))])\n",
    "    my.extend([x for x in all_data[x][\"MMYYYY\"]])\n",
    "    t0.extend([x for x in all_data[x][\"t0\"]])\n",
    "    t1.extend([x for x in all_data[x][\"t1\"]])\n",
    "    ps.extend([x for x in all_data[x][\"PeRatio\"]])\n",
    "    mc.extend([x for x in all_data[x][\"MarketCap\"]])\n",
    "npdf[\"Ticker\"] = tk\n",
    "npdf[\"MMYYYY\"] = my\n",
    "npdf[\"t0\"] = t0\n",
    "npdf[\"t1\"] = t1\n",
    "npdf[\"PeRatio\"] = ps\n",
    "npdf[\"MarketCap\"] = mc"
   ]
  },
  {
   "cell_type": "code",
   "execution_count": 9,
   "metadata": {},
   "outputs": [
    {
     "data": {
      "text/plain": [
       "['ADBE']"
      ]
     },
     "execution_count": 9,
     "metadata": {},
     "output_type": "execute_result"
    }
   ],
   "source": [
    "\n",
    "test_comps = [list(all_data.keys())[1]]\n",
    "\n",
    "test = npdf.iloc[np.where(npdf[\"Ticker\"] == test_comps[0])]\n",
    "train = npdf.iloc[np.where(npdf[\"Ticker\"] != test_comps[0])]\n",
    "train.reset_index(drop = True,inplace = True)\n",
    "test.reset_index(drop = True,inplace = True)\n",
    "test_comps"
   ]
  },
  {
   "cell_type": "code",
   "execution_count": 10,
   "metadata": {},
   "outputs": [],
   "source": [
    "npdfu = train.loc[npdf[\"t0\"] == 1]"
   ]
  },
  {
   "cell_type": "code",
   "execution_count": 11,
   "metadata": {},
   "outputs": [],
   "source": [
    "npdfd = train.loc[npdf[\"t0\"] == 0]"
   ]
  },
  {
   "cell_type": "code",
   "execution_count": 12,
   "metadata": {},
   "outputs": [
    {
     "data": {
      "text/plain": [
       "KNeighborsClassifier(n_neighbors=8)"
      ]
     },
     "execution_count": 12,
     "metadata": {},
     "output_type": "execute_result"
    }
   ],
   "source": [
    "n_neighbors = 8\n",
    "scale = pd.DataFrame()\n",
    "scale[\"MarketCap\"] = norm(npdfu[\"MarketCap\"])\n",
    "scale[\"PeRatio\"] = norm(npdfu[\"PeRatio\"])\n",
    "upknn = neighbors.KNeighborsClassifier(n_neighbors)\n",
    "X = scale[[\"MarketCap\",\"PeRatio\"]]\n",
    "y = npdfu[\"t1\"]\n",
    "upknn.fit(X,y)"
   ]
  },
  {
   "cell_type": "code",
   "execution_count": 13,
   "metadata": {},
   "outputs": [
    {
     "data": {
      "text/plain": [
       "KNeighborsClassifier(n_neighbors=8)"
      ]
     },
     "execution_count": 13,
     "metadata": {},
     "output_type": "execute_result"
    }
   ],
   "source": [
    "scale = pd.DataFrame()\n",
    "scale[\"MarketCap\"] = norm(npdfd[\"MarketCap\"])\n",
    "scale[\"PeRatio\"] = norm(npdfd[\"PeRatio\"])\n",
    "downknn = neighbors.KNeighborsClassifier(n_neighbors)\n",
    "X = scale[[\"MarketCap\",\"PeRatio\"]]\n",
    "y = npdfd[\"t1\"]\n",
    "downknn.fit(X,y)"
   ]
  },
  {
   "cell_type": "code",
   "execution_count": 14,
   "metadata": {},
   "outputs": [],
   "source": [
    "p = 20"
   ]
  },
  {
   "cell_type": "code",
   "execution_count": 15,
   "metadata": {},
   "outputs": [],
   "source": [
    "k = 0\n",
    "TEST1 = {}\n",
    "test1 = test.loc[test[\"Ticker\"] == test_comps[0]][[\"t0\",\"t1\",\"PeRatio\",\"MarketCap\"]]\n",
    "test1.reset_index(drop = True,inplace = True)\n",
    "i=0\n",
    "while p+k <= len(test1):\n",
    "    TEST1[i] = test1.iloc[k:p+k]\n",
    "    k+=1\n",
    "    i+=1"
   ]
  },
  {
   "cell_type": "code",
   "execution_count": 16,
   "metadata": {},
   "outputs": [
    {
     "data": {
      "text/plain": [
       "118"
      ]
     },
     "execution_count": 16,
     "metadata": {},
     "output_type": "execute_result"
    }
   ],
   "source": [
    "len(TEST1)"
   ]
  },
  {
   "cell_type": "code",
   "execution_count": 17,
   "metadata": {},
   "outputs": [],
   "source": [
    "np.random.seed(10)\n",
    "testloss = []\n",
    "n = 100\n",
    "for j in range(len(TEST1)):\n",
    "    for i in range(n):\n",
    "        out = proj(TEST1[j],\"PeRatio\",\"MarketCap\",len(TEST1[j]),\"t0\")\n",
    "        testloss.append(hamming_loss(out[1:],TEST1[j][\"t1\"][1:]))"
   ]
  },
  {
   "cell_type": "code",
   "execution_count": 18,
   "metadata": {},
   "outputs": [
    {
     "data": {
      "image/png": "[encoded data removed]",
      "text/plain": [
       "<Figure size 432x288 with 1 Axes>"
      ]
     },
     "metadata": {
      "needs_background": "light"
     },
     "output_type": "display_data"
    },
    {
     "data": {
      "text/plain": [
       "count    11800.000000\n",
       "mean         0.481423\n",
       "std          0.115873\n",
       "min          0.052632\n",
       "10%          0.315789\n",
       "20%          0.368421\n",
       "30%          0.421053\n",
       "40%          0.473684\n",
       "50%          0.473684\n",
       "60%          0.526316\n",
       "70%          0.526316\n",
       "80%          0.578947\n",
       "90%          0.631579\n",
       "max          0.894737\n",
       "dtype: float64"
      ]
     },
     "execution_count": 18,
     "metadata": {},
     "output_type": "execute_result"
    }
   ],
   "source": [
    "plt.hist(testloss, bins = 50)\n",
    "plt.show()\n",
    "testloss = pd.Series(testloss)\n",
    "testloss.describe(percentiles = [0.1+0.1*i for i in range(9)])"
   ]
  },
  {
   "cell_type": "code",
   "execution_count": 19,
   "metadata": {},
   "outputs": [],
   "source": [
    "TM = pd.DataFrame(index = [1,0])\n",
    "\n",
    "tm = {\"UU\":0,\"UD\":0,\"DU\":0,\"DD\":0}\n",
    "\n",
    "for x in all_data.keys():\n",
    "    if x not in test_comps:\n",
    "        tm[\"UU\"] += all_tm[x][\"Up\"][\"Up\"]\n",
    "        tm[\"DU\"] += all_tm[x][\"Down\"][\"Up\"]\n",
    "        tm[\"UD\"] += all_tm[x][\"Up\"][\"Down\"]\n",
    "        tm[\"DD\"] += all_tm[x][\"Down\"][\"Down\"]\n",
    "TM[1] = [tm[\"UU\"],tm[\"UD\"]]\n",
    "TM[0] = [tm[\"DU\"],tm[\"DD\"]]\n",
    "TM = scaleMatrix(TM)"
   ]
  },
  {
   "cell_type": "code",
   "execution_count": 20,
   "metadata": {},
   "outputs": [],
   "source": [
    "np.random.seed(10)\n",
    "ptstest1 = {}\n",
    "for i in range(len(TEST1)):\n",
    "    ptstest1[i] = pd.DataFrame()\n",
    "    ptstest1[i][\"t0\"] = [TEST1[i][\"t0\"][0]]\n",
    "ptsloss = []\n",
    "for j in range(len(TEST1)):\n",
    "    for i in range(n):\n",
    "        out = chain(init_state = ptstest1[j], matrix = TM, original_states = [1,0], init_state_col = \"t0\",n=len(TEST1[j])-1)\n",
    "        ptsloss.append(hamming_loss(out.iloc[0][1:],TEST1[j][\"t1\"][1:]))"
   ]
  },
  {
   "cell_type": "code",
   "execution_count": null,
   "metadata": {},
   "outputs": [],
   "source": []
  },
  {
   "cell_type": "code",
   "execution_count": 21,
   "metadata": {},
   "outputs": [
    {
     "data": {
      "image/png": "[encoded data removed]",
      "text/plain": [
       "<Figure size 432x288 with 1 Axes>"
      ]
     },
     "metadata": {
      "needs_background": "light"
     },
     "output_type": "display_data"
    },
    {
     "data": {
      "text/plain": [
       "count    11800.000000\n",
       "mean         0.488840\n",
       "std          0.113277\n",
       "min          0.105263\n",
       "10%          0.368421\n",
       "20%          0.368421\n",
       "30%          0.421053\n",
       "40%          0.473684\n",
       "50%          0.473684\n",
       "60%          0.526316\n",
       "70%          0.526316\n",
       "80%          0.578947\n",
       "90%          0.631579\n",
       "max          0.894737\n",
       "dtype: float64"
      ]
     },
     "execution_count": 21,
     "metadata": {},
     "output_type": "execute_result"
    }
   ],
   "source": [
    "plt.hist(ptsloss, bins = 50)\n",
    "plt.show()\n",
    "ptsloss = pd.Series(ptsloss)\n",
    "ptsloss.describe(percentiles = [0.1+0.1*i for i in range(9)])"
   ]
  },
  {
   "cell_type": "code",
   "execution_count": 22,
   "metadata": {},
   "outputs": [
    {
     "data": {
      "image/png": "[encoded data removed]",
      "text/plain": [
       "<Figure size 1080x1080 with 1 Axes>"
      ]
     },
     "metadata": {
      "needs_background": "light"
     },
     "output_type": "display_data"
    }
   ],
   "source": [
    "f = plt.figure()\n",
    "f.set_figwidth(15)\n",
    "f.set_figheight(15)\n",
    "plt.hist(testloss, bins = 50, alpha = 0.5,density=True)\n",
    "plt.hist(ptsloss, bins = 50,alpha = 0.5,density=True)\n",
    "plt.show()"
   ]
  },
  {
   "cell_type": "code",
   "execution_count": 23,
   "metadata": {},
   "outputs": [
    {
     "data": {
      "image/png": "[encoded data removed]",
      "text/plain": [
       "<Figure size 1080x1080 with 1 Axes>"
      ]
     },
     "metadata": {
      "needs_background": "light"
     },
     "output_type": "display_data"
    }
   ],
   "source": [
    "f = plt.figure()\n",
    "f.set_figwidth(15)\n",
    "f.set_figheight(15)\n",
    "sns.kdeplot(testloss,shade=True)\n",
    "sns.kdeplot(ptsloss,shade=True)\n",
    "plt.xlabel(\"Loss\")\n",
    "plt.ylabel(\"Frequency\")\n",
    "plt.legend([\"Test Chain Loss\",\"Markov Chain Loss\"])\n",
    "plt.show()"
   ]
  },
  {
   "cell_type": "code",
   "execution_count": 24,
   "metadata": {},
   "outputs": [
    {
     "data": {
      "text/plain": [
       "['AAPL',\n",
       " 'ADBE',\n",
       " 'ADI',\n",
       " 'ADP',\n",
       " 'ADSK',\n",
       " 'AEP',\n",
       " 'ALGN',\n",
       " 'AMAT',\n",
       " 'AMD',\n",
       " 'AMGN',\n",
       " 'AMZN',\n",
       " 'ANSS',\n",
       " 'ASML',\n",
       " 'ATVI',\n",
       " 'AVGO',\n",
       " 'BIDU',\n",
       " 'BIIB',\n",
       " 'BKNG',\n",
       " 'BMRN',\n",
       " 'CDNS',\n",
       " 'CDW',\n",
       " 'CERN',\n",
       " 'CHKP',\n",
       " 'CHTR',\n",
       " 'CMCSA',\n",
       " 'COST',\n",
       " 'CPRT',\n",
       " 'CSCO',\n",
       " 'CSX',\n",
       " 'CTAS',\n",
       " 'CTSH',\n",
       " 'DLTR',\n",
       " 'DXCM',\n",
       " 'EA',\n",
       " 'EBAY',\n",
       " 'EXC',\n",
       " 'FAST',\n",
       " 'FB',\n",
       " 'FISV',\n",
       " 'GILD',\n",
       " 'GOOG',\n",
       " 'GOOGL',\n",
       " 'HON',\n",
       " 'IDXX',\n",
       " 'ILMN',\n",
       " 'INCY',\n",
       " 'INTC',\n",
       " 'INTU',\n",
       " 'ISRG',\n",
       " 'JD',\n",
       " 'KDP',\n",
       " 'KHC',\n",
       " 'KLAC',\n",
       " 'LRCX',\n",
       " 'LULU',\n",
       " 'MAR',\n",
       " 'MCHP',\n",
       " 'MDLZ',\n",
       " 'MELI',\n",
       " 'MNST',\n",
       " 'MRVL',\n",
       " 'MSFT',\n",
       " 'MTCH',\n",
       " 'MU',\n",
       " 'NFLX',\n",
       " 'NTES',\n",
       " 'NVDA',\n",
       " 'NXPI',\n",
       " 'ORLY',\n",
       " 'PAYX',\n",
       " 'PCAR',\n",
       " 'PEP',\n",
       " 'PYPL',\n",
       " 'QCOM',\n",
       " 'REGN',\n",
       " 'ROST',\n",
       " 'SBUX',\n",
       " 'SGEN',\n",
       " 'SIRI',\n",
       " 'SNPS',\n",
       " 'SWKS',\n",
       " 'TCOM',\n",
       " 'TMUS',\n",
       " 'TSLA',\n",
       " 'TXN',\n",
       " 'VRSK',\n",
       " 'VRSN',\n",
       " 'VRTX',\n",
       " 'WDAY',\n",
       " 'XEL',\n",
       " 'XLNX']"
      ]
     },
     "execution_count": 24,
     "metadata": {},
     "output_type": "execute_result"
    }
   ],
   "source": [
    "list(all_data.keys())"
   ]
  },
  {
   "cell_type": "code",
   "execution_count": null,
   "metadata": {},
   "outputs": [],
   "source": []
  }
 ],
 "metadata": {
  "kernelspec": {
   "display_name": "Python 3",
   "language": "python",
   "name": "python3"
  },
  "language_info": {
   "codemirror_mode": {
    "name": "ipython",
    "version": 3
   },
   "file_extension": ".py",
   "mimetype": "text/x-python",
   "name": "python",
   "nbconvert_exporter": "python",
   "pygments_lexer": "ipython3",
   "version": "3.7.4"
  }
 },
 "nbformat": 4,
 "nbformat_minor": 2
}
