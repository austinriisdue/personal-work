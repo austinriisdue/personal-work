{
 "cells": [
  {
   "cell_type": "code",
   "execution_count": 1,
   "metadata": {},
   "outputs": [],
   "source": [
    "import numpy as np\n",
    "import pandas as pd\n",
    "import matplotlib.pyplot as plt\n",
    "import scipy.stats as st\n",
    "import statsmodels.api as sm\n",
    "import pylab as py\n",
    "import random\n",
    "import math"
   ]
  },
  {
   "cell_type": "code",
   "execution_count": 2,
   "metadata": {},
   "outputs": [],
   "source": [
    "ticker = pd.read_csv(\"/Users/austinriis-due/Documents/GitHub/energy_analytics/SPY.csv\")"
   ]
  },
  {
   "cell_type": "code",
   "execution_count": 3,
   "metadata": {
    "scrolled": true
   },
   "outputs": [
    {
     "data": {
      "text/html": [
       "<div>\n",
       "<style scoped>\n",
       "    .dataframe tbody tr th:only-of-type {\n",
       "        vertical-align: middle;\n",
       "    }\n",
       "\n",
       "    .dataframe tbody tr th {\n",
       "        vertical-align: top;\n",
       "    }\n",
       "\n",
       "    .dataframe thead th {\n",
       "        text-align: right;\n",
       "    }\n",
       "</style>\n",
       "<table border=\"1\" class=\"dataframe\">\n",
       "  <thead>\n",
       "    <tr style=\"text-align: right;\">\n",
       "      <th></th>\n",
       "      <th>Date</th>\n",
       "      <th>Open</th>\n",
       "      <th>High</th>\n",
       "      <th>Low</th>\n",
       "      <th>Close</th>\n",
       "      <th>Adj Close</th>\n",
       "      <th>Volume</th>\n",
       "    </tr>\n",
       "  </thead>\n",
       "  <tbody>\n",
       "    <tr>\n",
       "      <td>0</td>\n",
       "      <td>2019-10-30</td>\n",
       "      <td>303.429993</td>\n",
       "      <td>304.549988</td>\n",
       "      <td>301.989990</td>\n",
       "      <td>304.140015</td>\n",
       "      <td>298.370117</td>\n",
       "      <td>49643900</td>\n",
       "    </tr>\n",
       "    <tr>\n",
       "      <td>1</td>\n",
       "      <td>2019-10-31</td>\n",
       "      <td>304.130005</td>\n",
       "      <td>304.130005</td>\n",
       "      <td>301.730011</td>\n",
       "      <td>303.329987</td>\n",
       "      <td>297.575439</td>\n",
       "      <td>69053800</td>\n",
       "    </tr>\n",
       "    <tr>\n",
       "      <td>2</td>\n",
       "      <td>2019-11-01</td>\n",
       "      <td>304.920013</td>\n",
       "      <td>306.190002</td>\n",
       "      <td>304.739990</td>\n",
       "      <td>306.140015</td>\n",
       "      <td>300.332184</td>\n",
       "      <td>71141500</td>\n",
       "    </tr>\n",
       "    <tr>\n",
       "      <td>3</td>\n",
       "      <td>2019-11-04</td>\n",
       "      <td>307.850006</td>\n",
       "      <td>308.000000</td>\n",
       "      <td>306.959991</td>\n",
       "      <td>307.369995</td>\n",
       "      <td>301.538818</td>\n",
       "      <td>60606900</td>\n",
       "    </tr>\n",
       "    <tr>\n",
       "      <td>4</td>\n",
       "      <td>2019-11-05</td>\n",
       "      <td>307.589996</td>\n",
       "      <td>307.920013</td>\n",
       "      <td>306.709991</td>\n",
       "      <td>307.029999</td>\n",
       "      <td>301.205261</td>\n",
       "      <td>42933200</td>\n",
       "    </tr>\n",
       "    <tr>\n",
       "      <td>...</td>\n",
       "      <td>...</td>\n",
       "      <td>...</td>\n",
       "      <td>...</td>\n",
       "      <td>...</td>\n",
       "      <td>...</td>\n",
       "      <td>...</td>\n",
       "      <td>...</td>\n",
       "    </tr>\n",
       "    <tr>\n",
       "      <td>248</td>\n",
       "      <td>2020-10-23</td>\n",
       "      <td>345.929993</td>\n",
       "      <td>345.989990</td>\n",
       "      <td>343.130005</td>\n",
       "      <td>345.779999</td>\n",
       "      <td>345.779999</td>\n",
       "      <td>49143900</td>\n",
       "    </tr>\n",
       "    <tr>\n",
       "      <td>249</td>\n",
       "      <td>2020-10-26</td>\n",
       "      <td>342.130005</td>\n",
       "      <td>342.980011</td>\n",
       "      <td>335.619995</td>\n",
       "      <td>339.390015</td>\n",
       "      <td>339.390015</td>\n",
       "      <td>91473000</td>\n",
       "    </tr>\n",
       "    <tr>\n",
       "      <td>250</td>\n",
       "      <td>2020-10-27</td>\n",
       "      <td>339.760010</td>\n",
       "      <td>340.119995</td>\n",
       "      <td>337.989990</td>\n",
       "      <td>338.220001</td>\n",
       "      <td>338.220001</td>\n",
       "      <td>65994100</td>\n",
       "    </tr>\n",
       "    <tr>\n",
       "      <td>251</td>\n",
       "      <td>2020-10-28</td>\n",
       "      <td>332.100006</td>\n",
       "      <td>338.250000</td>\n",
       "      <td>326.130005</td>\n",
       "      <td>326.660004</td>\n",
       "      <td>326.660004</td>\n",
       "      <td>127094300</td>\n",
       "    </tr>\n",
       "    <tr>\n",
       "      <td>252</td>\n",
       "      <td>2020-10-29</td>\n",
       "      <td>326.910004</td>\n",
       "      <td>333.399994</td>\n",
       "      <td>325.089996</td>\n",
       "      <td>329.980011</td>\n",
       "      <td>329.980011</td>\n",
       "      <td>90198900</td>\n",
       "    </tr>\n",
       "  </tbody>\n",
       "</table>\n",
       "<p>253 rows × 7 columns</p>\n",
       "</div>"
      ],
      "text/plain": [
       "           Date        Open        High         Low       Close   Adj Close  \\\n",
       "0    2019-10-30  303.429993  304.549988  301.989990  304.140015  298.370117   \n",
       "1    2019-10-31  304.130005  304.130005  301.730011  303.329987  297.575439   \n",
       "2    2019-11-01  304.920013  306.190002  304.739990  306.140015  300.332184   \n",
       "3    2019-11-04  307.850006  308.000000  306.959991  307.369995  301.538818   \n",
       "4    2019-11-05  307.589996  307.920013  306.709991  307.029999  301.205261   \n",
       "..          ...         ...         ...         ...         ...         ...   \n",
       "248  2020-10-23  345.929993  345.989990  343.130005  345.779999  345.779999   \n",
       "249  2020-10-26  342.130005  342.980011  335.619995  339.390015  339.390015   \n",
       "250  2020-10-27  339.760010  340.119995  337.989990  338.220001  338.220001   \n",
       "251  2020-10-28  332.100006  338.250000  326.130005  326.660004  326.660004   \n",
       "252  2020-10-29  326.910004  333.399994  325.089996  329.980011  329.980011   \n",
       "\n",
       "        Volume  \n",
       "0     49643900  \n",
       "1     69053800  \n",
       "2     71141500  \n",
       "3     60606900  \n",
       "4     42933200  \n",
       "..         ...  \n",
       "248   49143900  \n",
       "249   91473000  \n",
       "250   65994100  \n",
       "251  127094300  \n",
       "252   90198900  \n",
       "\n",
       "[253 rows x 7 columns]"
      ]
     },
     "execution_count": 3,
     "metadata": {},
     "output_type": "execute_result"
    }
   ],
   "source": [
    "ticker"
   ]
  },
  {
   "cell_type": "code",
   "execution_count": 4,
   "metadata": {},
   "outputs": [
    {
     "data": {
      "text/plain": [
       "count    253.000000\n",
       "mean       0.000544\n",
       "std        0.020874\n",
       "min       -0.109424\n",
       "25%       -0.005513\n",
       "50%        0.002128\n",
       "75%        0.008619\n",
       "max        0.090603\n",
       "Name: Returns, dtype: float64"
      ]
     },
     "execution_count": 4,
     "metadata": {},
     "output_type": "execute_result"
    }
   ],
   "source": [
    "#adding daily returns column close to close\n",
    "r = [0]\n",
    "i = 1\n",
    "while i < len(ticker.Close):\n",
    "    s = (ticker.Close[i] / ticker.Close[i-1])-1\n",
    "    r.append(s)\n",
    "    i+= 1\n",
    "r[0] = sum(r)/len(r) #no data before row 0; inserted average\n",
    "ticker[\"Returns\"] = r\n",
    "ticker.Returns.describe()"
   ]
  },
  {
   "cell_type": "code",
   "execution_count": 5,
   "metadata": {},
   "outputs": [
    {
     "data": {
      "text/plain": [
       "count    253.000000\n",
       "mean       0.012641\n",
       "std        0.016592\n",
       "min        0.000002\n",
       "25%        0.003121\n",
       "50%        0.007105\n",
       "75%        0.014760\n",
       "max        0.109967\n",
       "Name: devObs, dtype: float64"
      ]
     },
     "execution_count": 5,
     "metadata": {},
     "output_type": "execute_result"
    }
   ],
   "source": [
    "# daily deviation from mean\n",
    "devObs = abs(ticker[\"Returns\"] - ticker.Returns.mean())\n",
    "ticker[\"devObs\"] = devObs\n",
    "ticker.devObs.describe()"
   ]
  },
  {
   "cell_type": "code",
   "execution_count": 6,
   "metadata": {},
   "outputs": [
    {
     "data": {
      "text/plain": [
       "[<matplotlib.lines.Line2D at 0x7f8dc151c650>]"
      ]
     },
     "execution_count": 6,
     "metadata": {},
     "output_type": "execute_result"
    },
    {
     "data": {
      "image/png": "[encoded data removed]",
      "text/plain": [
       "<Figure size 432x288 with 1 Axes>"
      ]
     },
     "metadata": {
      "needs_background": "light"
     },
     "output_type": "display_data"
    }
   ],
   "source": [
    "#plotting daily volatilities\n",
    "fig, ax = plt.subplots(1, 1)\n",
    "ax.plot(ticker.devObs)"
   ]
  },
  {
   "cell_type": "code",
   "execution_count": 7,
   "metadata": {},
   "outputs": [
    {
     "data": {
      "text/plain": [
       "0.021777513951596016"
      ]
     },
     "execution_count": 7,
     "metadata": {},
     "output_type": "execute_result"
    }
   ],
   "source": [
    "# fitting theta parameter\n",
    "t = (((ticker.devObs.std())**2))/ticker.devObs.mean()\n",
    "t"
   ]
  },
  {
   "cell_type": "markdown",
   "metadata": {},
   "source": [
    "## Basic Monte Carlo Simulation"
   ]
  },
  {
   "cell_type": "code",
   "execution_count": 8,
   "metadata": {},
   "outputs": [
    {
     "data": {
      "text/plain": [
       "0.5804819442570374"
      ]
     },
     "execution_count": 8,
     "metadata": {},
     "output_type": "execute_result"
    }
   ],
   "source": [
    "# fitting alpha parameter\n",
    "a = ticker.devObs.mean()/t\n",
    "a"
   ]
  },
  {
   "cell_type": "code",
   "execution_count": 9,
   "metadata": {},
   "outputs": [
    {
     "name": "stdout",
     "output_type": "stream",
     "text": [
      "0.012641453639707211\n"
     ]
    }
   ],
   "source": [
    "# sanity check\n",
    "print(a*t)"
   ]
  },
  {
   "cell_type": "code",
   "execution_count": 10,
   "metadata": {},
   "outputs": [],
   "source": [
    "# monte carlo sim from gamma distribution\n",
    "def getVol(alpha, theta):\n",
    "    u = random.uniform(0,1)\n",
    "    return(st.gamma.ppf(u,a=alpha,scale = theta))"
   ]
  },
  {
   "cell_type": "code",
   "execution_count": 11,
   "metadata": {},
   "outputs": [
    {
     "data": {
      "text/plain": [
       "0.043346317720622106"
      ]
     },
     "execution_count": 11,
     "metadata": {},
     "output_type": "execute_result"
    }
   ],
   "source": [
    "# sanity check \n",
    "getVol(a,t)"
   ]
  },
  {
   "cell_type": "code",
   "execution_count": 12,
   "metadata": {},
   "outputs": [],
   "source": [
    "#monte carlo sim for returns and price formula\n",
    "def getPrice(s_0,mu,divs, alpha, theta):\n",
    "    sigma = getVol(alpha, theta)\n",
    "    u = random.uniform(0,1)\n",
    "    Z = st.norm.ppf(u)\n",
    "    return(s_0*math.exp(mu - divs-(.5*(sigma**2))+sigma*Z))"
   ]
  },
  {
   "cell_type": "code",
   "execution_count": 13,
   "metadata": {},
   "outputs": [],
   "source": [
    "#test for 2 day paths based on last close price *non stratified*\n",
    "s1 = [getPrice(s_0 = ticker.Close[251],mu = ticker[\"Returns\"].mean(),divs = 0,alpha = a,theta = t) for x in range(1000000)]\n",
    "s2 = [getPrice(s_0 = v,mu = ticker[\"Returns\"].mean(),divs = 0,alpha = a,theta = t) for v in s1]"
   ]
  },
  {
   "cell_type": "code",
   "execution_count": 14,
   "metadata": {},
   "outputs": [
    {
     "data": {
      "text/plain": [
       "count    1000000.000000\n",
       "mean         326.841534\n",
       "std            6.815107\n",
       "min          166.279335\n",
       "25%          325.715378\n",
       "50%          326.837505\n",
       "75%          327.912785\n",
       "max          534.868571\n",
       "dtype: float64"
      ]
     },
     "execution_count": 14,
     "metadata": {},
     "output_type": "execute_result"
    }
   ],
   "source": [
    "# day one test stats\n",
    "pd.Series(s1).describe()"
   ]
  },
  {
   "cell_type": "code",
   "execution_count": 15,
   "metadata": {},
   "outputs": [
    {
     "data": {
      "text/plain": [
       "count    1000000.000000\n",
       "mean         327.016035\n",
       "std            9.652229\n",
       "min          163.072020\n",
       "25%          324.118054\n",
       "50%          327.001469\n",
       "75%          329.780476\n",
       "max          537.221370\n",
       "dtype: float64"
      ]
     },
     "execution_count": 15,
     "metadata": {},
     "output_type": "execute_result"
    }
   ],
   "source": [
    "#day two test stats\n",
    "pd.Series(s2).describe()"
   ]
  },
  {
   "cell_type": "code",
   "execution_count": 16,
   "metadata": {},
   "outputs": [
    {
     "data": {
      "text/plain": [
       "(array([3.00000e+00, 2.80000e+01, 6.10000e+02, 2.72370e+04, 9.63552e+05,\n",
       "        8.12300e+03, 3.97000e+02, 4.10000e+01, 7.00000e+00, 2.00000e+00]),\n",
       " array([166.27933522, 203.1382588 , 239.99718238, 276.85610596,\n",
       "        313.71502954, 350.57395312, 387.43287671, 424.29180029,\n",
       "        461.15072387, 498.00964745, 534.86857103]),\n",
       " <a list of 10 Patch objects>)"
      ]
     },
     "execution_count": 16,
     "metadata": {},
     "output_type": "execute_result"
    },
    {
     "data": {
      "image/png": "[encoded data removed]",
      "text/plain": [
       "<Figure size 432x288 with 1 Axes>"
      ]
     },
     "metadata": {
      "needs_background": "light"
     },
     "output_type": "display_data"
    }
   ],
   "source": [
    "#day one histogram\n",
    "plt.hist(s1)"
   ]
  },
  {
   "cell_type": "code",
   "execution_count": 17,
   "metadata": {},
   "outputs": [
    {
     "data": {
      "text/plain": [
       "(array([5.00000e+00, 4.60000e+01, 1.25300e+03, 4.81400e+04, 9.30948e+05,\n",
       "        1.85530e+04, 9.51000e+02, 8.70000e+01, 1.40000e+01, 3.00000e+00]),\n",
       " array([163.07202037, 200.48695531, 237.90189025, 275.31682519,\n",
       "        312.73176013, 350.14669507, 387.56163001, 424.97656495,\n",
       "        462.39149989, 499.80643482, 537.22136976]),\n",
       " <a list of 10 Patch objects>)"
      ]
     },
     "execution_count": 17,
     "metadata": {},
     "output_type": "execute_result"
    },
    {
     "data": {
      "image/png": "[encoded data removed]",
      "text/plain": [
       "<Figure size 432x288 with 1 Axes>"
      ]
     },
     "metadata": {
      "needs_background": "light"
     },
     "output_type": "display_data"
    }
   ],
   "source": [
    "#day two histogram\n",
    "plt.hist(s2)"
   ]
  },
  {
   "cell_type": "markdown",
   "metadata": {},
   "source": [
    "## Graphical Analyses and Stress Tests"
   ]
  },
  {
   "cell_type": "code",
   "execution_count": 18,
   "metadata": {},
   "outputs": [
    {
     "data": {
      "image/png": "[encoded data removed]",
      "text/plain": [
       "<Figure size 432x288 with 1 Axes>"
      ]
     },
     "metadata": {
      "needs_background": "light"
     },
     "output_type": "display_data"
    }
   ],
   "source": [
    "# probability plot of gamma against data\n",
    "fig, ax = plt.subplots(1, 1)\n",
    "st.probplot(ticker.devObs.sort_values(), sparams = (a,t),plot = ax,dist = 'gamma')\n",
    "plt.show()"
   ]
  },
  {
   "cell_type": "code",
   "execution_count": 19,
   "metadata": {},
   "outputs": [
    {
     "data": {
      "image/png": "[encoded data removed]",
      "text/plain": [
       "<Figure size 432x288 with 1 Axes>"
      ]
     },
     "metadata": {
      "needs_background": "light"
     },
     "output_type": "display_data"
    }
   ],
   "source": [
    "# probability plot of exponential against data\n",
    "fig, ax = plt.subplots(1, 1)\n",
    "st.probplot(ticker.devObs.sort_values(), sparams = (1,ticker.devObs.mean()),plot = ax,dist = 'gamma')\n",
    "plt.show()"
   ]
  },
  {
   "cell_type": "code",
   "execution_count": 20,
   "metadata": {},
   "outputs": [],
   "source": [
    "# likelihood ratio test to see if exponential is better fit for volatility\n",
    "Lgam = [math.log(st.gamma.pdf(x,a=a,scale=t)) for x in ticker.devObs]\n",
    "Lexp = [math.log(st.gamma.pdf(x,a = 1, scale = ticker.devObs.mean())) for x in ticker.devObs]"
   ]
  },
  {
   "cell_type": "code",
   "execution_count": 21,
   "metadata": {},
   "outputs": [],
   "source": [
    "def loglikelihood(list):\n",
    "    s = 0\n",
    "    for i in list:\n",
    "        s+=i\n",
    "    return s"
   ]
  },
  {
   "cell_type": "code",
   "execution_count": 22,
   "metadata": {},
   "outputs": [
    {
     "data": {
      "text/plain": [
       "6.257931100555197"
      ]
     },
     "execution_count": 22,
     "metadata": {},
     "output_type": "execute_result"
    }
   ],
   "source": [
    "test_stat = 2*((loglikelihood(Lexp)-math.log(253)) - (loglikelihood(Lgam)-.5*math.log(253)))\n",
    "test_stat \n",
    "# if fail to reject on 1 degree of freedom use gamma"
   ]
  },
  {
   "cell_type": "code",
   "execution_count": 23,
   "metadata": {},
   "outputs": [
    {
     "data": {
      "image/png": "[encoded data removed]",
      "text/plain": [
       "<Figure size 432x288 with 1 Axes>"
      ]
     },
     "metadata": {
      "needs_background": "light"
     },
     "output_type": "display_data"
    }
   ],
   "source": [
    "# probability plot of returns against data\n",
    "# should have heavy tail indicator\n",
    "fig, ax = plt.subplots(1, 1)\n",
    "st.probplot(ticker.Returns.sort_values(), sparams = (ticker.Returns.mean(),ticker.Returns.std()),plot = ax,dist = 'norm')\n",
    "plt.show()"
   ]
  },
  {
   "cell_type": "code",
   "execution_count": 24,
   "metadata": {},
   "outputs": [],
   "source": [
    "#monte carlo for returns\n",
    "def getReturns(mu,sigma,l,u):\n",
    "    q = random.uniform(l,u)\n",
    "    return st.norm.ppf(q,loc = mu, scale = sigma)"
   ]
  },
  {
   "cell_type": "code",
   "execution_count": 25,
   "metadata": {},
   "outputs": [
    {
     "data": {
      "text/plain": [
       "(array([ 2.,  3., 13., 40., 56., 64., 43., 19., 10.,  3.]),\n",
       " array([-0.04080422, -0.03286194, -0.02491965, -0.01697736, -0.00903507,\n",
       "        -0.00109279,  0.0068495 ,  0.01479179,  0.02273408,  0.03067637,\n",
       "         0.03861865]),\n",
       " <a list of 10 Patch objects>)"
      ]
     },
     "execution_count": 25,
     "metadata": {},
     "output_type": "execute_result"
    },
    {
     "data": {
      "image/png": "[encoded data removed]",
      "text/plain": [
       "<Figure size 432x288 with 1 Axes>"
      ]
     },
     "metadata": {
      "needs_background": "light"
     },
     "output_type": "display_data"
    }
   ],
   "source": [
    "# test for returns\n",
    "j = h = 1/len(ticker.Returns)\n",
    "i = 0\n",
    "test = []\n",
    "while j < 1:\n",
    "    x = [getReturns(mu = ticker.Returns.mean(), sigma = getVol(a,t),l = i, u = j) for x in range(100)]\n",
    "    test.append(sum(x)/len(x))\n",
    "    i += h\n",
    "    j += h\n",
    "plt.hist(test)"
   ]
  },
  {
   "cell_type": "code",
   "execution_count": 26,
   "metadata": {},
   "outputs": [
    {
     "data": {
      "text/plain": [
       "(array([  2.,   1.,   2.,  11.,  28., 161.,  38.,   4.,   4.,   2.]),\n",
       " array([-0.10942373, -0.08942104, -0.06941834, -0.04941564, -0.02941294,\n",
       "        -0.00941024,  0.01059246,  0.03059516,  0.05059786,  0.07060056,\n",
       "         0.09060326]),\n",
       " <a list of 10 Patch objects>)"
      ]
     },
     "execution_count": 26,
     "metadata": {},
     "output_type": "execute_result"
    },
    {
     "data": {
      "image/png": "[encoded data removed]",
      "text/plain": [
       "<Figure size 432x288 with 1 Axes>"
      ]
     },
     "metadata": {
      "needs_background": "light"
     },
     "output_type": "display_data"
    }
   ],
   "source": [
    "plt.hist(ticker.Returns)"
   ]
  },
  {
   "cell_type": "code",
   "execution_count": 27,
   "metadata": {},
   "outputs": [
    {
     "data": {
      "text/plain": [
       "Ttest_indResult(statistic=-0.01448434458272085, pvalue=0.9884493009007345)"
      ]
     },
     "execution_count": 27,
     "metadata": {},
     "output_type": "execute_result"
    }
   ],
   "source": [
    "st.ttest_ind(pd.Series(ticker.Returns).sort_values(),pd.Series(test).sort_values())"
   ]
  },
  {
   "cell_type": "code",
   "execution_count": 28,
   "metadata": {},
   "outputs": [
    {
     "data": {
      "text/plain": [
       "<matplotlib.collections.PathCollection at 0x7f8dc095e290>"
      ]
     },
     "execution_count": 28,
     "metadata": {},
     "output_type": "execute_result"
    },
    {
     "data": {
      "image/png": "[encoded data removed]",
      "text/plain": [
       "<Figure size 432x288 with 1 Axes>"
      ]
     },
     "metadata": {
      "needs_background": "light"
     },
     "output_type": "display_data"
    }
   ],
   "source": [
    "# qq plot for returns\n",
    "# should indicate heavy tails\n",
    "plt.scatter(pd.Series(ticker.Returns).sort_values(),pd.Series(test).sort_values())\n",
    "plt.scatter([x/1000 for x in range(-100,100)],[x/1000 for x in range(-100,100)], alpha = .1)"
   ]
  },
  {
   "cell_type": "code",
   "execution_count": 29,
   "metadata": {},
   "outputs": [
    {
     "data": {
      "text/plain": [
       "(array([164.,  45.,  21.,  11.,   5.,   3.,   2.,   1.,   0.,   1.]),\n",
       " array([4.77515087e-07, 1.16622991e-02, 2.33241208e-02, 3.49859424e-02,\n",
       "        4.66477640e-02, 5.83095857e-02, 6.99714073e-02, 8.16332289e-02,\n",
       "        9.32950506e-02, 1.04956872e-01, 1.16618694e-01]),\n",
       " <a list of 10 Patch objects>)"
      ]
     },
     "execution_count": 29,
     "metadata": {},
     "output_type": "execute_result"
    },
    {
     "data": {
      "image/png": "[encoded data removed]",
      "text/plain": [
       "<Figure size 432x288 with 1 Axes>"
      ]
     },
     "metadata": {
      "needs_background": "light"
     },
     "output_type": "display_data"
    }
   ],
   "source": [
    "#Checking Stratified Volatility\n",
    "def getVolStrata(alpha, theta,l,u):\n",
    "    u = random.uniform(l,u)\n",
    "    return(st.gamma.ppf(u,a=alpha,scale = theta))\n",
    "\n",
    "j = h = 1/len(ticker.devObs)\n",
    "i = 0\n",
    "test = []\n",
    "while j < 1:\n",
    "    x = [getVolStrata(a,t,l = i, u = j) for x in range(100)]\n",
    "    test.append(sum(x)/len(x))\n",
    "    i += h\n",
    "    j += h\n",
    "plt.hist(test)"
   ]
  },
  {
   "cell_type": "code",
   "execution_count": 30,
   "metadata": {},
   "outputs": [
    {
     "data": {
      "text/plain": [
       "Ttest_indResult(statistic=-0.00043293837929774323, pvalue=0.9996547364662356)"
      ]
     },
     "execution_count": 30,
     "metadata": {},
     "output_type": "execute_result"
    }
   ],
   "source": [
    "st.ttest_ind(pd.Series(ticker.devObs).sort_values(),pd.Series(test).sort_values())"
   ]
  },
  {
   "cell_type": "code",
   "execution_count": 31,
   "metadata": {},
   "outputs": [
    {
     "data": {
      "text/plain": [
       "<matplotlib.collections.PathCollection at 0x7f8da9e94550>"
      ]
     },
     "execution_count": 31,
     "metadata": {},
     "output_type": "execute_result"
    },
    {
     "data": {
      "image/png": "[encoded data removed]",
      "text/plain": [
       "<Figure size 432x288 with 1 Axes>"
      ]
     },
     "metadata": {
      "needs_background": "light"
     },
     "output_type": "display_data"
    }
   ],
   "source": [
    "plt.scatter(pd.Series(ticker.devObs).sort_values(),pd.Series(test).sort_values())\n",
    "plt.scatter([x/1000 for x in range(0,120)],[x/1000 for x in range(0,120)], alpha = .1)"
   ]
  },
  {
   "cell_type": "markdown",
   "metadata": {},
   "source": [
    "## Stratified Monte Carlo Modeling"
   ]
  },
  {
   "cell_type": "code",
   "execution_count": 32,
   "metadata": {},
   "outputs": [],
   "source": [
    "# Stratified volatility sampling\n",
    "def getVolStrata(alpha, theta,l,u):\n",
    "    u = random.uniform(l,u)\n",
    "    return(st.gamma.ppf(u,a=alpha,scale = theta))"
   ]
  },
  {
   "cell_type": "code",
   "execution_count": 33,
   "metadata": {},
   "outputs": [],
   "source": [
    "# Stratified price sampling\n",
    "def getPriceStrata(s_0,mu,divs, alpha, theta,low,up,bottom,top):\n",
    "    sigma = getVolStrata(alpha, theta,bottom,top)\n",
    "    u = random.uniform(low,up)\n",
    "    Z = st.norm.ppf(u)\n",
    "    return(s_0*math.exp(mu - divs-(.5*(sigma**2))+sigma*Z))"
   ]
  },
  {
   "cell_type": "code",
   "execution_count": 34,
   "metadata": {},
   "outputs": [
    {
     "data": {
      "text/plain": [
       "count    1000000.000000\n",
       "mean         330.159278\n",
       "std            6.893754\n",
       "min          181.240614\n",
       "25%          329.024957\n",
       "50%          330.159263\n",
       "75%          331.243566\n",
       "max          532.184004\n",
       "dtype: float64"
      ]
     },
     "execution_count": 34,
     "metadata": {},
     "output_type": "execute_result"
    }
   ],
   "source": [
    "# Stratified paths for next day\n",
    "s1 = []\n",
    "l = 0\n",
    "u = .001\n",
    "y = 0\n",
    "z = .001\n",
    "h = .001\n",
    "while round(u,6) <= 1:\n",
    "    while round(z,6) <= 1:\n",
    "        s1.append(getPriceStrata(s_0 = ticker.Close[252],mu = ticker[\"Returns\"].mean(),divs = 0,alpha = a,theta = t, low = l, up = u, bottom = y, top = z))\n",
    "        y += h\n",
    "        z += h\n",
    "    l += h\n",
    "    u += h\n",
    "    y = 0\n",
    "    z = .001\n",
    "\n",
    "pd.Series(s1).describe()"
   ]
  },
  {
   "cell_type": "code",
   "execution_count": 35,
   "metadata": {},
   "outputs": [
    {
     "data": {
      "text/plain": [
       "(array([4.00000e+00, 5.60000e+01, 1.15400e+03, 5.29060e+04, 9.39178e+05,\n",
       "        6.23400e+03, 4.05000e+02, 5.30000e+01, 6.00000e+00, 4.00000e+00]),\n",
       " array([181.24061431, 216.33495331, 251.4292923 , 286.5236313 ,\n",
       "        321.6179703 , 356.71230929, 391.80664829, 426.90098729,\n",
       "        461.99532628, 497.08966528, 532.18400428]),\n",
       " <a list of 10 Patch objects>)"
      ]
     },
     "execution_count": 35,
     "metadata": {},
     "output_type": "execute_result"
    },
    {
     "data": {
      "image/png": "[encoded data removed]",
      "text/plain": [
       "<Figure size 432x288 with 1 Axes>"
      ]
     },
     "metadata": {
      "needs_background": "light"
     },
     "output_type": "display_data"
    }
   ],
   "source": [
    "plt.hist(s1)"
   ]
  },
  {
   "cell_type": "code",
   "execution_count": 36,
   "metadata": {},
   "outputs": [],
   "source": [
    "# Put Payoff Function\n",
    "def PutPayoff(pricesT, k):\n",
    "    PutPayoff = []\n",
    "    for x in pricesT:\n",
    "        if k-x>0:\n",
    "            PutPayoff.append(k-x)\n",
    "        else:\n",
    "            PutPayoff.append(0)\n",
    "    return pd.Series(PutPayoff)"
   ]
  },
  {
   "cell_type": "code",
   "execution_count": 37,
   "metadata": {},
   "outputs": [],
   "source": [
    "# Call Payoff Function\n",
    "def CallPayoff(pricesT, k):\n",
    "    CallPayoff = []\n",
    "    for x in pricesT:\n",
    "        if x-k>0:\n",
    "            CallPayoff.append(x-k)\n",
    "        else:\n",
    "            CallPayoff.append(0)\n",
    "    return pd.Series(CallPayoff)"
   ]
  },
  {
   "cell_type": "code",
   "execution_count": 38,
   "metadata": {},
   "outputs": [],
   "source": [
    "# Prices for any number of days \n",
    "# Based on initial path calculated above\n",
    "def PriceIt(Stop, s_0):\n",
    "    days = 0\n",
    "    while days < Stop:\n",
    "        s_New = []\n",
    "        l = 0\n",
    "        u = .001\n",
    "        y = 0\n",
    "        z = .001\n",
    "        h = .001\n",
    "        for s in s_0:\n",
    "            while round(u,6) <= 1:\n",
    "                while round(z,6) <= 1:\n",
    "                    s_New.append(getPriceStrata(s_0 = s,mu = ticker[\"Returns\"].mean(),divs = 0,alpha = a,theta = t, low = l, up = u, bottom = y, top = z))\n",
    "                    y += h\n",
    "                    z += h\n",
    "                l += h\n",
    "                u += h\n",
    "                y = 0\n",
    "                z = .001\n",
    "        s_0 = s_New\n",
    "        days += 1\n",
    "    return pd.Series(s_New)"
   ]
  },
  {
   "cell_type": "code",
   "execution_count": 39,
   "metadata": {},
   "outputs": [],
   "source": [
    "# Gives probability of jump to a loss for a put with given strike\n",
    "# on day that series refers to\n",
    "def getStrikePrLossPut(strike, series):\n",
    "    series = pd.Series(series)\n",
    "    for price in list(series.sort_values()):\n",
    "        if price >= strike:\n",
    "            return 1-(list(series.sort_values()).index(price)/len(list(series.sort_values())))\n",
    "    return list(series.sort_values())[-1]"
   ]
  },
  {
   "cell_type": "code",
   "execution_count": 40,
   "metadata": {},
   "outputs": [],
   "source": [
    "# Gives probability of jump to a loss for a call with given strike\n",
    "# on day that series refers to\n",
    "def getStrikePrLossCall(strike, series):\n",
    "    series = pd.Series(series)\n",
    "    for price in list(series.sort_values()):\n",
    "        if price >= strike:\n",
    "            return (list(series.sort_values()).index(price)/len(list(series.sort_values())))\n",
    "    return list(series.sort_values())[-1]"
   ]
  },
  {
   "cell_type": "code",
   "execution_count": 41,
   "metadata": {},
   "outputs": [],
   "source": [
    "# stratified pathwise monte carlo runs\n",
    "# tomorrow is s1\n",
    "# next day is based on s1\n",
    "# mon = PriceIt(1,s1)\n",
    "# tues = PriceIt(1,mon)\n",
    "# wed = PriceIt(1,tues)\n",
    "# th = PriceIt(1,wed)\n",
    "# fr = PriceIt(1,th)"
   ]
  },
  {
   "cell_type": "code",
   "execution_count": 42,
   "metadata": {},
   "outputs": [
    {
     "data": {
      "text/plain": [
       "0.956021"
      ]
     },
     "execution_count": 42,
     "metadata": {},
     "output_type": "execute_result"
    }
   ],
   "source": [
    "1- getStrikePrLossPut(340,s1)"
   ]
  },
  {
   "cell_type": "code",
   "execution_count": null,
   "metadata": {},
   "outputs": [],
   "source": []
  }
 ],
 "metadata": {
  "kernelspec": {
   "display_name": "Python 3",
   "language": "python",
   "name": "python3"
  },
  "language_info": {
   "codemirror_mode": {
    "name": "ipython",
    "version": 3
   },
   "file_extension": ".py",
   "mimetype": "text/x-python",
   "name": "python",
   "nbconvert_exporter": "python",
   "pygments_lexer": "ipython3",
   "version": "3.7.4"
  }
 },
 "nbformat": 4,
 "nbformat_minor": 2
}
