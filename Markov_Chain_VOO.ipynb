{
 "cells": [
  {
   "cell_type": "code",
   "execution_count": 1,
   "metadata": {},
   "outputs": [],
   "source": [
    "import pandas as pd\n",
    "import matplotlib.pyplot as plt\n",
    "import numpy as np\n",
    "import scipy.stats as st"
   ]
  },
  {
   "cell_type": "code",
   "execution_count": 72,
   "metadata": {},
   "outputs": [],
   "source": [
    "df = pd.read_csv(\"VOO.csv\")"
   ]
  },
  {
   "cell_type": "code",
   "execution_count": 73,
   "metadata": {},
   "outputs": [],
   "source": [
    "chg = list(df.Close.pct_change()[1:])\n",
    "dd = 0\n",
    "ud = 0\n",
    "uu = 0\n",
    "du = 0\n",
    "i = 0\n",
    "dState = []\n",
    "uState = []\n",
    "while i < len(chg)-1:\n",
    "    if chg[i]< 0 and chg[i+1]<0:\n",
    "        dd+=1\n",
    "        dState.append(chg[i+1])\n",
    "    if chg[i]< 0 and chg[i+1]>0:\n",
    "        du+=1\n",
    "        uState.append(chg[i+1])\n",
    "    if chg[i]> 0 and chg[i+1]<0:\n",
    "        ud+=1\n",
    "        dState.append(chg[i+1])\n",
    "    if chg[i]> 0 and chg[i+1]>0:\n",
    "        uu+=1\n",
    "        uState.append(chg[i+1])\n",
    "    i+=1\n",
    "chgprobs = [uu/(uu+ud),ud/(uu+ud),du/(du+dd),dd/(du+dd)]"
   ]
  },
  {
   "cell_type": "code",
   "execution_count": 74,
   "metadata": {},
   "outputs": [
    {
     "data": {
      "text/plain": [
       "[0.5205479452054794,\n",
       " 0.4794520547945205,\n",
       " 0.6634615384615384,\n",
       " 0.33653846153846156]"
      ]
     },
     "execution_count": 74,
     "metadata": {},
     "output_type": "execute_result"
    }
   ],
   "source": [
    "chgprobs"
   ]
  },
  {
   "cell_type": "code",
   "execution_count": 75,
   "metadata": {},
   "outputs": [
    {
     "data": {
      "text/plain": [
       "(array([79., 45.,  9.,  4.,  3.,  0.,  2.,  1.,  0.,  2.]),\n",
       " array([8.61718311e-05, 9.61395041e-03, 1.91417290e-02, 2.86695076e-02,\n",
       "        3.81972861e-02, 4.77250647e-02, 5.72528433e-02, 6.67806219e-02,\n",
       "        7.63084004e-02, 8.58361790e-02, 9.53639576e-02]),\n",
       " <a list of 10 Patch objects>)"
      ]
     },
     "execution_count": 75,
     "metadata": {},
     "output_type": "execute_result"
    },
    {
     "data": {
      "image/png": "[encoded data removed]",
      "text/plain": [
       "<Figure size 432x288 with 1 Axes>"
      ]
     },
     "metadata": {
      "needs_background": "light"
     },
     "output_type": "display_data"
    }
   ],
   "source": [
    "plt.hist(uState)"
   ]
  },
  {
   "cell_type": "code",
   "execution_count": 76,
   "metadata": {},
   "outputs": [],
   "source": [
    "PosdState = [-x for x in dState]"
   ]
  },
  {
   "cell_type": "code",
   "execution_count": 77,
   "metadata": {},
   "outputs": [],
   "source": [
    "mu_d = sum([np.log(x) for x in PosdState]) / len(PosdState)\n",
    "sigma_d = np.sqrt(sum([(np.log(x) - mu_d)**2 for x in PosdState]) / len(PosdState))\n",
    "mu_u = sum([np.log(x) for x in uState]) / len(uState)\n",
    "sigma_u = np.sqrt(sum([(np.log(x) - mu_u)**2 for x in uState]) / len(uState))\n",
    "down_dist = (np.exp(mu_d),sigma_d)\n",
    "up_dist = (np.exp(mu_u),sigma_u)"
   ]
  },
  {
   "cell_type": "code",
   "execution_count": 78,
   "metadata": {},
   "outputs": [],
   "source": [
    "def MarkovChain(prob_matrix,num_steps, currprice):\n",
    "    chain = []\n",
    "    prices = [currprice]\n",
    "    start = st.uniform.rvs(0,1)\n",
    "    if start > .5:\n",
    "        CurrState = \"u\"\n",
    "        currprice += st.lognorm.rvs(scale = up_dist[0],s = up_dist[1])*currprice\n",
    "    else:\n",
    "        CurrState = \"d\"\n",
    "        currprice -= st.lognorm.rvs(scale = down_dist[0],s = down_dist[1])*currprice\n",
    "    S = 0\n",
    "    while S != num_steps:\n",
    "        chain.append(CurrState)\n",
    "        prices.append(max(currprice,0))\n",
    "        if CurrState == \"u\":\n",
    "            trans = st.uniform.rvs(0,1)\n",
    "            if trans < prob_matrix[0]:\n",
    "                CurrState = \"u\"\n",
    "                currprice += st.lognorm.rvs(scale = up_dist[0],s = up_dist[1])*currprice\n",
    "            else:\n",
    "                CurrState = \"d\"\n",
    "                currprice -= st.lognorm.rvs(scale = down_dist[0],s = down_dist[1])*currprice\n",
    "        if CurrState == \"d\":\n",
    "            trans = st.uniform.rvs(0,1)\n",
    "            if trans < prob_matrix[2]:\n",
    "                CurrState = \"u\"\n",
    "                currprice += st.lognorm.rvs(scale = up_dist[0],s = up_dist[1])*currprice\n",
    "            else:\n",
    "                CurrState = \"d\"\n",
    "                currprice -= st.lognorm.rvs(scale = down_dist[0],s = down_dist[1])*currprice\n",
    "        S+=1\n",
    "    return chain, prices"
   ]
  },
  {
   "cell_type": "code",
   "execution_count": 79,
   "metadata": {},
   "outputs": [
    {
     "data": {
      "text/plain": [
       "(['u',\n",
       "  'u',\n",
       "  'u',\n",
       "  'u',\n",
       "  'd',\n",
       "  'u',\n",
       "  'u',\n",
       "  'u',\n",
       "  'd',\n",
       "  'd',\n",
       "  'u',\n",
       "  'u',\n",
       "  'u',\n",
       "  'u',\n",
       "  'u',\n",
       "  'd',\n",
       "  'd',\n",
       "  'u',\n",
       "  'u',\n",
       "  'u',\n",
       "  'u',\n",
       "  'u',\n",
       "  'u',\n",
       "  'u',\n",
       "  'u'],\n",
       " [360.160004,\n",
       "  360.36046668738743,\n",
       "  366.670765836102,\n",
       "  369.59159050816083,\n",
       "  370.748655069075,\n",
       "  313.7743116127534,\n",
       "  324.74195742613813,\n",
       "  324.6333087396811,\n",
       "  335.63977444984084,\n",
       "  303.43925097960494,\n",
       "  294.1048446644273,\n",
       "  295.3969264010395,\n",
       "  298.07184102407314,\n",
       "  309.0812606045348,\n",
       "  326.19469751888346,\n",
       "  326.91518428357335,\n",
       "  320.6147076261602,\n",
       "  319.7493480395437,\n",
       "  322.3154985107769,\n",
       "  323.7373842349781,\n",
       "  324.1202041592482,\n",
       "  323.30354446001047,\n",
       "  323.63171810517844,\n",
       "  324.5396838766164,\n",
       "  328.2704194861761,\n",
       "  331.8009946175848])"
      ]
     },
     "execution_count": 79,
     "metadata": {},
     "output_type": "execute_result"
    }
   ],
   "source": [
    "MarkovChain(chgprobs,25,df.Close[252])"
   ]
  },
  {
   "cell_type": "code",
   "execution_count": 80,
   "metadata": {},
   "outputs": [
    {
     "data": {
      "image/png": "[encoded data removed]",
      "text/plain": [
       "<Figure size 432x288 with 1 Axes>"
      ]
     },
     "metadata": {
      "needs_background": "light"
     },
     "output_type": "display_data"
    }
   ],
   "source": [
    "n = 90\n",
    "d = MarkovChain(chgprobs,n,df.Close[252])[1]\n",
    "plt.scatter([t for t in range(n+1)],d)\n",
    "plt.plot([t for t in range(n+1)],d)\n",
    "plt.show()"
   ]
  },
  {
   "cell_type": "code",
   "execution_count": 81,
   "metadata": {},
   "outputs": [],
   "source": [
    "priceDist = []\n",
    "for t in range(100000):\n",
    "    priceDist.append(MarkovChain(chgprobs,1,df.Close[252])[1][-1])"
   ]
  },
  {
   "cell_type": "code",
   "execution_count": 82,
   "metadata": {},
   "outputs": [
    {
     "data": {
      "text/plain": [
       "Text(0, 0.5, 'Number of Observations')"
      ]
     },
     "execution_count": 82,
     "metadata": {},
     "output_type": "execute_result"
    },
    {
     "data": {
      "image/png": "[encoded data removed]",
      "text/plain": [
       "<Figure size 432x288 with 1 Axes>"
      ]
     },
     "metadata": {
      "needs_background": "light"
     },
     "output_type": "display_data"
    }
   ],
   "source": [
    "binwidth = .1\n",
    "plt.hist(priceDist, bins=np.arange(200, 500, binwidth))\n",
    "plt.xlabel('Price')\n",
    "plt.ylabel('Number of Observations')"
   ]
  },
  {
   "cell_type": "code",
   "execution_count": 83,
   "metadata": {},
   "outputs": [
    {
     "data": {
      "text/plain": [
       "count    100000.000000\n",
       "mean        359.637542\n",
       "std          12.388151\n",
       "min           0.000000\n",
       "25%         357.542357\n",
       "50%         360.293210\n",
       "75%         362.830503\n",
       "max         854.083319\n",
       "dtype: float64"
      ]
     },
     "execution_count": 83,
     "metadata": {},
     "output_type": "execute_result"
    }
   ],
   "source": [
    "price = pd.Series(priceDist)\n",
    "price.describe()"
   ]
  },
  {
   "cell_type": "code",
   "execution_count": 84,
   "metadata": {},
   "outputs": [
    {
     "data": {
      "text/plain": [
       "(343.76, 375.52)"
      ]
     },
     "execution_count": 84,
     "metadata": {},
     "output_type": "execute_result"
    }
   ],
   "source": [
    "(round(price.mean()-1.282*price.std(),2),round(price.mean()+1.282*price.std(),2))"
   ]
  },
  {
   "cell_type": "code",
   "execution_count": null,
   "metadata": {},
   "outputs": [],
   "source": []
  },
  {
   "cell_type": "code",
   "execution_count": null,
   "metadata": {},
   "outputs": [],
   "source": []
  }
 ],
 "metadata": {
  "kernelspec": {
   "display_name": "Python 3",
   "language": "python",
   "name": "python3"
  },
  "language_info": {
   "codemirror_mode": {
    "name": "ipython",
    "version": 3
   },
   "file_extension": ".py",
   "mimetype": "text/x-python",
   "name": "python",
   "nbconvert_exporter": "python",
   "pygments_lexer": "ipython3",
   "version": "3.7.4"
  }
 },
 "nbformat": 4,
 "nbformat_minor": 2
}
